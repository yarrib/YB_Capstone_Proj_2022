{
 "cells": [
  {
   "cell_type": "markdown",
   "id": "69350bce-fda0-452c-9a82-c5c1e9e71ede",
   "metadata": {},
   "source": [
    "# Multi Output Prediction with FastAi and entity embeddings\n",
    "\n",
    "This notebook is the \"start over and try again\" version of this project, because of the lack of success in v1 using scikit-learn. The majority of this notebook follows the examples from <i>Deep Learning For Coders with fastai & PyTorch</i> (Howard & Gugger, 2020), specifically <i>Chapter 9: Tabular Modeling Deep Dive</i> from the GitHub repo found here: <a href=\"https://github.com/fastai/fastbook/blob/master/09_tabular.ipynb\">Ch 9 Tabular Modeling Deep Dive</a>\n",
    "\n",
    "---\n",
    "\n",
    "## Load Libraries \n"
   ]
  },
  {
   "cell_type": "code",
   "execution_count": 1,
   "id": "83e4bff4-cfde-45f8-9e7e-66420908373e",
   "metadata": {},
   "outputs": [],
   "source": [
    "# for final notebook run, time it\n",
    "import datetime as dt\n",
    "full_nb_run_start = dt.datetime.now()"
   ]
  },
  {
   "cell_type": "code",
   "execution_count": 2,
   "id": "16a1fc25-207f-43b2-b788-d09ad200eb54",
   "metadata": {},
   "outputs": [
    {
     "name": "stderr",
     "output_type": "stream",
     "text": [
      "Enabling notebook extension jupyter-js-widgets/extension...\n",
      "      - Validating: ok\n"
     ]
    }
   ],
   "source": [
    "!jupyter nbextension enable --py widgetsnbextension --sys-prefix\n",
    "!pip install -Uqq fastbook waterfallcharts treeinterpreter dtreeviz\n",
    "from fastai.tabular.all import *"
   ]
  },
  {
   "cell_type": "code",
   "execution_count": 3,
   "id": "51d9ac68-169e-4b66-87cf-c7ca462f5a8e",
   "metadata": {},
   "outputs": [],
   "source": [
    "import fastbook\n",
    "fastbook.setup_book()"
   ]
  },
  {
   "cell_type": "code",
   "execution_count": 4,
   "id": "d94e83e4-16fa-45f0-ae91-93be46b2d37b",
   "metadata": {},
   "outputs": [],
   "source": [
    "from fastbook import *\n",
    "from pandas.api.types import is_string_dtype, is_numeric_dtype, is_categorical_dtype\n",
    "from fastai.tabular.all import *\n",
    "from sklearn.ensemble import RandomForestRegressor\n",
    "from sklearn.tree import DecisionTreeRegressor\n",
    "from dtreeviz.trees import *\n",
    "from IPython.display import Image, display_svg, SVG\n",
    "\n",
    "import numpy as np\n",
    "np.random.seed(42)"
   ]
  },
  {
   "cell_type": "markdown",
   "id": "7e36f834-e8c8-473a-9804-0ba042592271",
   "metadata": {
    "tags": []
   },
   "source": [
    "---\n",
    "\n",
    "## Load Data, Identify Features and Targets by types"
   ]
  },
  {
   "cell_type": "code",
   "execution_count": 5,
   "id": "5612e297-810e-450f-9f94-d2ba37379762",
   "metadata": {},
   "outputs": [],
   "source": [
    "df = pd.read_csv('./data/clean_data.csv', low_memory=False)"
   ]
  },
  {
   "cell_type": "code",
   "execution_count": 6,
   "id": "c14554b1-9e51-4e03-9662-2d44f5b926a6",
   "metadata": {},
   "outputs": [
    {
     "data": {
      "text/plain": [
       "Index(['CalendarYear', 'OfficeCity', 'OfficeState', 'OfficeZip', 'OfficeName',\n",
       "       'AccountCity', 'AccountState', 'AccountZip', 'AccountNaicsName',\n",
       "       'MarketName', 'ServiceName', 'ServiceLineName', 'IndustryName',\n",
       "       'JobTaxComplexity', 'JobName', 'ChargeHours', 'ProductionRevActual',\n",
       "       'Cost', 'NumAssociatesOnJob', '# of Locations', 'Annual Sales',\n",
       "       'Assets', 'Employees', 'SEC/Publicly Traded'],\n",
       "      dtype='object')"
      ]
     },
     "execution_count": 6,
     "metadata": {},
     "output_type": "execute_result"
    }
   ],
   "source": [
    "df.columns"
   ]
  },
  {
   "cell_type": "markdown",
   "id": "4058c1c3-db37-4f12-be43-cba56623f787",
   "metadata": {},
   "source": [
    "---\n",
    "\n",
    "As before, we define our columns by category."
   ]
  },
  {
   "cell_type": "code",
   "execution_count": 7,
   "id": "77a6380c-bdd3-48a9-af95-48e32d9e7db0",
   "metadata": {},
   "outputs": [
    {
     "data": {
      "text/html": [
       "<div>\n",
       "<style scoped>\n",
       "    .dataframe tbody tr th:only-of-type {\n",
       "        vertical-align: middle;\n",
       "    }\n",
       "\n",
       "    .dataframe tbody tr th {\n",
       "        vertical-align: top;\n",
       "    }\n",
       "\n",
       "    .dataframe thead th {\n",
       "        text-align: right;\n",
       "    }\n",
       "</style>\n",
       "<table border=\"1\" class=\"dataframe\">\n",
       "  <thead>\n",
       "    <tr style=\"text-align: right;\">\n",
       "      <th></th>\n",
       "      <th>CalendarYear</th>\n",
       "      <th>OfficeCity</th>\n",
       "      <th>OfficeState</th>\n",
       "      <th>OfficeZip</th>\n",
       "      <th>OfficeName</th>\n",
       "      <th>AccountCity</th>\n",
       "      <th>AccountState</th>\n",
       "      <th>AccountZip</th>\n",
       "      <th>AccountNaicsName</th>\n",
       "      <th>MarketName</th>\n",
       "      <th>ServiceName</th>\n",
       "      <th>ServiceLineName</th>\n",
       "      <th>IndustryName</th>\n",
       "      <th>JobName</th>\n",
       "      <th>SEC/Publicly Traded</th>\n",
       "      <th>JobTaxComplexity</th>\n",
       "      <th>Annual Sales</th>\n",
       "      <th>Assets</th>\n",
       "      <th>Employees</th>\n",
       "      <th># of Locations</th>\n",
       "      <th>ChargeHours</th>\n",
       "      <th>ProductionRevActual</th>\n",
       "      <th>Cost</th>\n",
       "      <th>NumAssociatesOnJob</th>\n",
       "    </tr>\n",
       "  </thead>\n",
       "  <tbody>\n",
       "    <tr>\n",
       "      <th>0</th>\n",
       "      <td>2020</td>\n",
       "      <td>Wausau</td>\n",
       "      <td>WI</td>\n",
       "      <td>54403.0</td>\n",
       "      <td>Wausau, WI (30)</td>\n",
       "      <td>Rothschild</td>\n",
       "      <td>WI</td>\n",
       "      <td>54474</td>\n",
       "      <td>Food (Health) Supplement Stores</td>\n",
       "      <td>North Central WI</td>\n",
       "      <td>Accounting assistance - A&amp;A</td>\n",
       "      <td>Audit &amp; Accounting (10)</td>\n",
       "      <td>Mfg. Retail Distribution</td>\n",
       "      <td>Accounting assistance - A&amp;A-2013</td>\n",
       "      <td>No</td>\n",
       "      <td>Not Applicable</td>\n",
       "      <td>5M - 9.9M</td>\n",
       "      <td>Unknown</td>\n",
       "      <td>Unknown</td>\n",
       "      <td>0.0</td>\n",
       "      <td>0.0</td>\n",
       "      <td>0.0</td>\n",
       "      <td>0.00</td>\n",
       "      <td>1</td>\n",
       "    </tr>\n",
       "    <tr>\n",
       "      <th>1</th>\n",
       "      <td>2020</td>\n",
       "      <td>Wausau</td>\n",
       "      <td>WI</td>\n",
       "      <td>54403.0</td>\n",
       "      <td>Wausau, WI (30)</td>\n",
       "      <td>Rothschild</td>\n",
       "      <td>WI</td>\n",
       "      <td>54474</td>\n",
       "      <td>Food (Health) Supplement Stores</td>\n",
       "      <td>North Central WI</td>\n",
       "      <td>Property Tax</td>\n",
       "      <td>Tax (20)</td>\n",
       "      <td>Mfg. Retail Distribution</td>\n",
       "      <td>Property Tax-260068</td>\n",
       "      <td>No</td>\n",
       "      <td>Not Applicable</td>\n",
       "      <td>5M - 9.9M</td>\n",
       "      <td>Unknown</td>\n",
       "      <td>Unknown</td>\n",
       "      <td>0.0</td>\n",
       "      <td>0.8</td>\n",
       "      <td>175.5</td>\n",
       "      <td>29.63</td>\n",
       "      <td>4</td>\n",
       "    </tr>\n",
       "    <tr>\n",
       "      <th>2</th>\n",
       "      <td>2021</td>\n",
       "      <td>Wausau</td>\n",
       "      <td>WI</td>\n",
       "      <td>54403.0</td>\n",
       "      <td>Wausau, WI (30)</td>\n",
       "      <td>Rothschild</td>\n",
       "      <td>WI</td>\n",
       "      <td>54474</td>\n",
       "      <td>Food (Health) Supplement Stores</td>\n",
       "      <td>North Central WI</td>\n",
       "      <td>Property Tax</td>\n",
       "      <td>Tax (20)</td>\n",
       "      <td>Mfg. Retail Distribution</td>\n",
       "      <td>Property Tax-260068</td>\n",
       "      <td>No</td>\n",
       "      <td>Not Applicable</td>\n",
       "      <td>5M - 9.9M</td>\n",
       "      <td>Unknown</td>\n",
       "      <td>Unknown</td>\n",
       "      <td>0.0</td>\n",
       "      <td>0.6</td>\n",
       "      <td>72.0</td>\n",
       "      <td>16.74</td>\n",
       "      <td>2</td>\n",
       "    </tr>\n",
       "    <tr>\n",
       "      <th>3</th>\n",
       "      <td>2020</td>\n",
       "      <td>Wausau</td>\n",
       "      <td>WI</td>\n",
       "      <td>54403.0</td>\n",
       "      <td>Wausau, WI (30)</td>\n",
       "      <td>Rothschild</td>\n",
       "      <td>WI</td>\n",
       "      <td>54474</td>\n",
       "      <td>Food (Health) Supplement Stores</td>\n",
       "      <td>North Central WI</td>\n",
       "      <td>Accounting assistance - A&amp;A</td>\n",
       "      <td>Audit &amp; Accounting (10)</td>\n",
       "      <td>Mfg. Retail Distribution</td>\n",
       "      <td>Special Accounting Project</td>\n",
       "      <td>No</td>\n",
       "      <td>Not Applicable</td>\n",
       "      <td>5M - 9.9M</td>\n",
       "      <td>Unknown</td>\n",
       "      <td>Unknown</td>\n",
       "      <td>0.0</td>\n",
       "      <td>0.5</td>\n",
       "      <td>100.0</td>\n",
       "      <td>20.69</td>\n",
       "      <td>2</td>\n",
       "    </tr>\n",
       "    <tr>\n",
       "      <th>4</th>\n",
       "      <td>2020</td>\n",
       "      <td>Wausau</td>\n",
       "      <td>WI</td>\n",
       "      <td>54403.0</td>\n",
       "      <td>Wausau, WI (30)</td>\n",
       "      <td>Rothschild</td>\n",
       "      <td>WI</td>\n",
       "      <td>54474</td>\n",
       "      <td>Food (Health) Supplement Stores</td>\n",
       "      <td>North Central WI</td>\n",
       "      <td>Other Consulting-Sales/Use</td>\n",
       "      <td>Tax (20)</td>\n",
       "      <td>Mfg. Retail Distribution</td>\n",
       "      <td>Other Consulting-Sales/Use-260068</td>\n",
       "      <td>No</td>\n",
       "      <td>Not Applicable</td>\n",
       "      <td>5M - 9.9M</td>\n",
       "      <td>Unknown</td>\n",
       "      <td>Unknown</td>\n",
       "      <td>0.0</td>\n",
       "      <td>3.3</td>\n",
       "      <td>739.0</td>\n",
       "      <td>144.95</td>\n",
       "      <td>2</td>\n",
       "    </tr>\n",
       "  </tbody>\n",
       "</table>\n",
       "</div>"
      ],
      "text/plain": [
       "   CalendarYear OfficeCity OfficeState  OfficeZip       OfficeName  \\\n",
       "0          2020     Wausau          WI    54403.0  Wausau, WI (30)   \n",
       "1          2020     Wausau          WI    54403.0  Wausau, WI (30)   \n",
       "2          2021     Wausau          WI    54403.0  Wausau, WI (30)   \n",
       "3          2020     Wausau          WI    54403.0  Wausau, WI (30)   \n",
       "4          2020     Wausau          WI    54403.0  Wausau, WI (30)   \n",
       "\n",
       "  AccountCity AccountState AccountZip                 AccountNaicsName  \\\n",
       "0  Rothschild           WI      54474  Food (Health) Supplement Stores   \n",
       "1  Rothschild           WI      54474  Food (Health) Supplement Stores   \n",
       "2  Rothschild           WI      54474  Food (Health) Supplement Stores   \n",
       "3  Rothschild           WI      54474  Food (Health) Supplement Stores   \n",
       "4  Rothschild           WI      54474  Food (Health) Supplement Stores   \n",
       "\n",
       "         MarketName                  ServiceName          ServiceLineName  \\\n",
       "0  North Central WI  Accounting assistance - A&A  Audit & Accounting (10)   \n",
       "1  North Central WI                 Property Tax                 Tax (20)   \n",
       "2  North Central WI                 Property Tax                 Tax (20)   \n",
       "3  North Central WI  Accounting assistance - A&A  Audit & Accounting (10)   \n",
       "4  North Central WI   Other Consulting-Sales/Use                 Tax (20)   \n",
       "\n",
       "               IndustryName                            JobName  \\\n",
       "0  Mfg. Retail Distribution   Accounting assistance - A&A-2013   \n",
       "1  Mfg. Retail Distribution                Property Tax-260068   \n",
       "2  Mfg. Retail Distribution                Property Tax-260068   \n",
       "3  Mfg. Retail Distribution         Special Accounting Project   \n",
       "4  Mfg. Retail Distribution  Other Consulting-Sales/Use-260068   \n",
       "\n",
       "  SEC/Publicly Traded JobTaxComplexity Annual Sales   Assets Employees  \\\n",
       "0                  No   Not Applicable    5M - 9.9M  Unknown   Unknown   \n",
       "1                  No   Not Applicable    5M - 9.9M  Unknown   Unknown   \n",
       "2                  No   Not Applicable    5M - 9.9M  Unknown   Unknown   \n",
       "3                  No   Not Applicable    5M - 9.9M  Unknown   Unknown   \n",
       "4                  No   Not Applicable    5M - 9.9M  Unknown   Unknown   \n",
       "\n",
       "   # of Locations  ChargeHours  ProductionRevActual    Cost  \\\n",
       "0             0.0          0.0                  0.0    0.00   \n",
       "1             0.0          0.8                175.5   29.63   \n",
       "2             0.0          0.6                 72.0   16.74   \n",
       "3             0.0          0.5                100.0   20.69   \n",
       "4             0.0          3.3                739.0  144.95   \n",
       "\n",
       "   NumAssociatesOnJob  \n",
       "0                   1  \n",
       "1                   4  \n",
       "2                   2  \n",
       "3                   2  \n",
       "4                   2  "
      ]
     },
     "execution_count": 7,
     "metadata": {},
     "output_type": "execute_result"
    }
   ],
   "source": [
    "\n",
    "cats = ['CalendarYear', 'OfficeCity', 'OfficeState', 'OfficeZip', 'OfficeName',\n",
    "       'AccountCity', 'AccountState', 'AccountZip', 'AccountNaicsName',\n",
    "       'MarketName', 'ServiceName', 'ServiceLineName', 'IndustryName',\n",
    "       'JobName','SEC/Publicly Traded']\n",
    "ords = ['JobTaxComplexity','Annual Sales','Assets', 'Employees']\n",
    "numerics = ['# of Locations']\n",
    "targets = ['ChargeHours', 'ProductionRevActual',\n",
    "       'Cost', 'NumAssociatesOnJob']\n",
    "df = df[cats+ords+numerics+targets]\n",
    "df.head()"
   ]
  },
  {
   "cell_type": "markdown",
   "id": "9618f5ae-d53a-4c8b-a694-0c2a35316886",
   "metadata": {},
   "source": [
    "---\n",
    "\n",
    "Next, we output the count of unique values per categorical column as a sanity check"
   ]
  },
  {
   "cell_type": "code",
   "execution_count": 8,
   "id": "c465dabc-2679-475b-a92f-5b4ca5a9d8ea",
   "metadata": {},
   "outputs": [
    {
     "name": "stdout",
     "output_type": "stream",
     "text": [
      "--------------------------------------------------------------------------------\n",
      "CalendarYear 3\t\tOfficeCity 41\t\tOfficeState 15\n",
      "--------------------------------------------------------------------------------\n",
      "OfficeZip 41\t\tOfficeName 41\t\tAccountCity 2280\n",
      "--------------------------------------------------------------------------------\n",
      "AccountState 52\t\tAccountZip 3098\t\tAccountNaicsName 831\n",
      "--------------------------------------------------------------------------------\n",
      "MarketName 16\t\tServiceName 134\t\tServiceLineName 2\n",
      "--------------------------------------------------------------------------------\n",
      "IndustryName 9\t\tJobName 11876\t\tSEC/Publicly Traded 2\n",
      "--------------------------------------------------------------------------------\n"
     ]
    }
   ],
   "source": [
    "print('-'*80)\n",
    "for idx,col in enumerate(df[cats].columns):\n",
    "    if idx in (2,5,8,11) or idx == len(df[cats].columns)-1:\n",
    "        print(col, df[col].nunique())\n",
    "        print('-'*80)\n",
    "    else:\n",
    "        print(col, df[col].nunique(), end= '\\t\\t')\n"
   ]
  },
  {
   "cell_type": "markdown",
   "id": "be1adf4e-f608-43aa-9f2f-95a459744f78",
   "metadata": {},
   "source": [
    "---\n",
    "\n",
    "### create our ordered categorical variables using pandas\n",
    "\n",
    "this is in contrast to the scikit learn approach where we used a custom ordinal encoder. here, we order categorical values while keeping them as text columns. this is done in order to allow fastai's encoding functionality to work."
   ]
  },
  {
   "cell_type": "code",
   "execution_count": 9,
   "id": "97af4ba0-3cb0-4f04-8d95-56babf3ab6b8",
   "metadata": {
    "tags": []
   },
   "outputs": [],
   "source": [
    "# ******************************************************************************************\n",
    "# define our orders. note that money_ords is used twice in the dict(zip()) below\n",
    "money_ords = ['Unknown','Under $200K','$200K - $499K','$500K - $999K','1M - 2.4M','2.5M - 4.9M','5M - 9.9M'\n",
    "                         ,'10M - 24.9M','25M - 49M','50M - 99M','100M - 249M','250M - 499M','500M - 749M'\n",
    "                         ,'750M - 999M','1B - 1.49B','1.5B - 1.9B','2B +']\n",
    "emp_ords = ['Unknown', '1 - 9', '10 - 24', '25 - 49', '50 - 99', '100 - 249', '250 - 499', '500 - 999', '1,000 - 2,499'\n",
    "                         , '2,500 - 4,999', '5,000 - 9,999', '10,000 - 14,999', '15,000 - 19,999','20,000 +']\n",
    "\n",
    "jt_complex_ords = ['Not Applicable', 'Basic', 'Intermediate', 'Complex']\n",
    "# ******************************************************************************************\n",
    "# create our ordinal column:orderedvalue mapping\n",
    "col_order_dict = dict(zip(ords,[jt_complex_ords,money_ords, money_ords, emp_ords]))\n",
    "#col_order_dict\n",
    "# ******************************************************************************************\n",
    "# set values\n",
    "for col in ords:\n",
    "    # set astype category\n",
    "    df[col] = df[col].astype('category')\n",
    "    # grab order list and pass it to set_categories\n",
    "    df[col] = df[col].cat.set_categories(col_order_dict[col], ordered=True)"
   ]
  },
  {
   "cell_type": "code",
   "execution_count": 10,
   "id": "071f851c-444f-47b0-9bd1-8ac92f962b07",
   "metadata": {},
   "outputs": [
    {
     "data": {
      "text/plain": [
       "Index(['CalendarYear', 'OfficeCity', 'OfficeState', 'OfficeZip', 'OfficeName',\n",
       "       'AccountCity', 'AccountState', 'AccountZip', 'AccountNaicsName',\n",
       "       'MarketName', 'ServiceName', 'ServiceLineName', 'IndustryName',\n",
       "       'JobName', 'SEC/Publicly Traded', 'JobTaxComplexity', 'Annual Sales',\n",
       "       'Assets', 'Employees', '# of Locations', 'ChargeHours',\n",
       "       'ProductionRevActual', 'Cost', 'NumAssociatesOnJob'],\n",
       "      dtype='object')"
      ]
     },
     "execution_count": 10,
     "metadata": {},
     "output_type": "execute_result"
    }
   ],
   "source": [
    "df.columns"
   ]
  },
  {
   "cell_type": "markdown",
   "id": "5bfe991e-0a6a-41f3-8808-45f350144412",
   "metadata": {},
   "source": [
    "---\n",
    "\n",
    "## create our dataloaders object from our pandas dataframe\n",
    "\n",
    "the major modification from the fastai book/GitHub is that instead of a single target we have four, and multi output regression doesn't work via the fastai approach we are using. this doesn't necessarily apply to the models, but the classes TabularDataLoaders and TabularPandas.\n",
    "\n",
    "iterating over our targets so that we create our dataloaders, splits, TabularPandas (wrapper on pandas) dataframes, and our train_X (xs), train_y (y), test_X (valid_xs), test_y (valid_y)  per target. the valid_xs/valid_y are hold out sets."
   ]
  },
  {
   "cell_type": "code",
   "execution_count": 11,
   "id": "436e4f3c-15eb-4b3d-8ad9-39e6e56d92f4",
   "metadata": {},
   "outputs": [],
   "source": [
    "# create dataloaders\n",
    "dataloaders_by_tgt = []\n",
    "for t in targets:\n",
    "    dls = TabularDataLoaders.from_df(df, y_names=t,\n",
    "        cat_names = cats+ords,\n",
    "        cont_names=numerics,\n",
    "        procs = [Categorify, FillMissing, Normalize])\n",
    "    # adding seed for reproducability\n",
    "    splits = RandomSplitter(valid_pct=0.2, seed=42)(range_of(df))\n",
    "    \n",
    "    to = TabularPandas(df, procs=[Categorify, FillMissing,Normalize],\n",
    "                   cat_names = cats+ords, cont_names=numerics,\n",
    "                   y_names=t,\n",
    "                   splits=splits)\n",
    "                   \n",
    "    len(to.train), len(to.valid)\n",
    "    \n",
    "    xs,y = to.train.xs,to.train.y\n",
    "    valid_xs,valid_y = to.valid.xs,to.valid.y\n",
    "    \n",
    "    #to.show(3)\n",
    "    #to.items.head(3)\n",
    "    \n",
    "    dataloaders_by_tgt.append((xs,y,valid_xs,valid_y))\n",
    "    \n",
    "    "
   ]
  },
  {
   "cell_type": "markdown",
   "id": "7942207e-ad3e-4a4d-9bb8-97e156ef6672",
   "metadata": {},
   "source": [
    "---\n",
    "\n",
    "## create a baseline mode: decision tree\n",
    "\n",
    "following the fastai approach we train a super straightforward baseline model. interestingly, our RMSE and R^2 values are much improved versus the previous approach. it would appear that the manner in which the fastai classes apply the inplace transforms like FillMissing, Categorify, etc work well with the minimal pandas categorical preprocessing. Certainly in the data acuqisition part 2 we manually imputed some of the missing values because they represent business context values, but in the input of data to the model we would require all fields be filled out."
   ]
  },
  {
   "cell_type": "code",
   "execution_count": 12,
   "id": "37e9b567-b17f-4ef2-a323-7d5a6729db3e",
   "metadata": {
    "tags": []
   },
   "outputs": [
    {
     "name": "stdout",
     "output_type": "stream",
     "text": [
      "***************DECISION TREE MODELS**************\n",
      "*************************************************\n",
      "*\tstarted: 2022-04-18 11:37:22.266331\t*\n",
      "*************************************************\n",
      "for target \"ChargeHours\"\n",
      "train score: 0.3561\n",
      "MSE: 2643.380627749764\n",
      "RMSE: 51.41381747886227\n",
      "R2: 0.24415496986288188\n",
      "*************************************************\n",
      "for target \"ProductionRevActual\"\n",
      "train score: 0.3678\n",
      "MSE: 95917192.98985812\n",
      "RMSE: 9793.73233194874\n",
      "R2: 0.25970886603524745\n",
      "*************************************************\n",
      "for target \"Cost\"\n",
      "train score: 0.3430\n",
      "MSE: 5015443.463229042\n",
      "RMSE: 2239.5185784514138\n",
      "R2: 0.2185557334509538\n",
      "*************************************************\n",
      "for target \"NumAssociatesOnJob\"\n",
      "train score: 0.4901\n",
      "MSE: 5.496887346519326\n",
      "RMSE: 2.34454416604152\n",
      "R2: 0.35832151234837883\n",
      "*************************************************\n",
      "*************************************************\n",
      "*\tended: 2022-04-18 11:37:22.847388\t*\n",
      "*\telapsed time: 0:00:00.581057\t\t*\n",
      "*************************************************\n"
     ]
    }
   ],
   "source": [
    "from sklearn.tree import DecisionTreeRegressor\n",
    "from sklearn.metrics import mean_squared_error, r2_score\n",
    "import datetime as dt\n",
    "\n",
    "print('***************DECISION TREE MODELS**************')\n",
    "\n",
    "start = dt.datetime.now()\n",
    "print('*'*49)\n",
    "print(f'*\\tstarted: {start}\\t*')\n",
    "print('*'*49)\n",
    "\n",
    "\n",
    "dt_models = []\n",
    "dt_results = {}\n",
    "for idx, d in enumerate(dataloaders_by_tgt):\n",
    "    train_X, train_y, test_X, test_y = d[0],d[1],d[2],d[3]\n",
    "    \n",
    "    # instantiate model\n",
    "    dt_model = DecisionTreeRegressor(min_samples_leaf=25, random_state=42)\n",
    "    # where xs and y are the training features, targets, respectively\n",
    "\n",
    "    dt_model.fit(train_X,train_y)\n",
    "    \n",
    "    print(f'for target \\\"{targets[idx]}\\\"\\ntrain score: {dt_model.score(train_X,train_y):,.4f}')\n",
    "    \n",
    "    # predictions\n",
    "    preds = dt_model.predict(test_X)\n",
    "\n",
    "    mse = mean_squared_error(test_y, preds)\n",
    "    print(\"MSE:\", mse)\n",
    "    rmse = np.sqrt(mse)\n",
    "    print(\"RMSE:\", rmse)\n",
    "    r2 = r2_score(test_y, preds)\n",
    "    print(\"R2:\", r2)\n",
    "    \n",
    "    dt_models.append(dt_model)\n",
    "    dt_results[f'{targets[idx]} pred stats (rmse,r2)'] = [rmse,r2]\n",
    "    \n",
    "    # space out the results\n",
    "    print('*'*49)\n",
    "  \n",
    "print('*'*49)\n",
    "end = dt.datetime.now()\n",
    "print(f'*\\tended: {end}\\t*')\n",
    "print(f'*\\telapsed time: {(end-start)}\\t\\t*')\n",
    "print('*'*49)"
   ]
  },
  {
   "cell_type": "markdown",
   "id": "d90170ee-558b-4c08-b361-c72af7644610",
   "metadata": {},
   "source": [
    "---\n",
    "\n",
    "## train a random forest\n",
    "\n",
    "note that because we are using oob score, we don't need to worry about cross validation because of how random forests inherently work (on random subsets, effectively doing our cv for us)"
   ]
  },
  {
   "cell_type": "code",
   "execution_count": 13,
   "id": "df64fb56-1319-47b1-9af9-90b799a6566d",
   "metadata": {},
   "outputs": [],
   "source": [
    "# random forest\n",
    "from sklearn.ensemble import RandomForestRegressor\n",
    "\n",
    "# convenience wrapper function from fastai\n",
    "def rf(xs, y, n_estimators=100, #max_samples=200_000,\n",
    "       max_features=0.5, min_samples_leaf=5, **kwargs):\n",
    "    return RandomForestRegressor(n_jobs=-1, n_estimators=n_estimators,\n",
    "        #max_samples=max_samples, \n",
    "                                 max_features=max_features,\n",
    "        min_samples_leaf=min_samples_leaf, oob_score=True,random_state=42).fit(xs, y)\n",
    "\n",
    "# convenience function for feature importance interp\n",
    "def rf_feat_importance(model,df):\n",
    "    return pd.DataFrame({'cols':df.columns,\n",
    "                         'imp':model.feature_importances_\n",
    "                        }).sort_values('imp', ascending=False)"
   ]
  },
  {
   "cell_type": "code",
   "execution_count": 14,
   "id": "953c2a38-931c-496f-9af5-20d99eb32529",
   "metadata": {},
   "outputs": [
    {
     "name": "stdout",
     "output_type": "stream",
     "text": [
      "***************RANDOM FOREST MODELS**************\n",
      "*************************************************\n",
      "*\tstarted: 2022-04-18 11:37:22.868316\t*\n",
      "*************************************************\n",
      "for target \"ChargeHours\"\n",
      "train score: 0.5359\n",
      "OOB Score: 0.2774\n",
      "MSE: 2367.5540970548213\n",
      "RMSE: 48.65751840214235\n",
      "R2: 0.323024471370582\n",
      "*************************************************\n",
      "for target \"ProductionRevActual\"\n",
      "train score: 0.5415\n",
      "OOB Score: 0.2892\n",
      "MSE: 88019081.78170145\n",
      "RMSE: 9381.848526900307\n",
      "R2: 0.3206666726620975\n",
      "*************************************************\n",
      "for target \"Cost\"\n",
      "train score: 0.5165\n",
      "OOB Score: 0.2619\n",
      "MSE: 4425060.985382059\n",
      "RMSE: 2103.5828924437606\n",
      "R2: 0.31054181718750873\n",
      "*************************************************\n",
      "for target \"NumAssociatesOnJob\"\n",
      "train score: 0.6813\n",
      "OOB Score: 0.4527\n",
      "MSE: 4.645144253478002\n",
      "RMSE: 2.155259671937004\n",
      "R2: 0.457749640551979\n",
      "*************************************************\n",
      "*************************************************\n",
      "*\tended: 2022-04-18 11:37:30.104422\t*\n",
      "*\telapsed time: 0:00:07.236106\t\t*\n",
      "*************************************************\n"
     ]
    }
   ],
   "source": [
    "print('***************RANDOM FOREST MODELS**************')\n",
    "start = dt.datetime.now()\n",
    "print('*'*49)\n",
    "print(f'*\\tstarted: {start}\\t*')\n",
    "print('*'*49)\n",
    "\n",
    "rf_base_models = []\n",
    "rf_base_results = {}\n",
    "\n",
    "# same as before but we want to pass our information to the rf wrapper function\n",
    "for idx, d in enumerate(dataloaders_by_tgt):\n",
    "    train_X, train_y, test_X, test_y = d[0],d[1],d[2],d[3]\n",
    "    \n",
    "    # rf model\n",
    "    rf_model = RandomForestRegressor(n_jobs=-1, n_estimators=100,\n",
    "                                     max_features=0.5,min_samples_leaf=5, \n",
    "                                     oob_score=True, random_state=42)\n",
    "    # instantiate and train model\n",
    "    rf_model.fit(train_X,train_y)\n",
    "    \n",
    "    print(f'for target \\\"{targets[idx]}\\\"\\ntrain score: {rf_model.score(train_X,train_y):,.4f}')\n",
    "    \n",
    "    # OOB\n",
    "    #print(rf_model.oob_prediction_)\n",
    "    print(f'OOB Score: {rf_model.oob_score_:,.4f}')\n",
    "    \n",
    "    # predictions\n",
    "    preds = rf_model.predict(test_X)\n",
    "\n",
    "    mse = mean_squared_error(test_y, preds)\n",
    "    print(\"MSE:\", mse)\n",
    "    rmse = np.sqrt(mse)\n",
    "    print(\"RMSE:\", rmse)\n",
    "    r2 = r2_score(test_y, preds)\n",
    "    print(\"R2:\", r2)\n",
    "    \n",
    "    \n",
    "    \n",
    "    rf_base_models.append(rf_model)\n",
    "    rf_base_results[f'{targets[idx]} pred stats (rmse,r2)'] = [rmse,r2]\n",
    "    # show feature importances\n",
    "    #feature_importances = rf_feat_importance(rf_model, train_X)\n",
    "    #print(f'Top 5 Feature Importances:\\n{feature_importances[:5]}')\n",
    "    # space out the results\n",
    "    print('*'*49)\n",
    "    \n",
    "print('*'*49)\n",
    "end = dt.datetime.now()\n",
    "print(f'*\\tended: {end}\\t*')\n",
    "print(f'*\\telapsed time: {(end-start)}\\t\\t*')\n",
    "print('*'*49)"
   ]
  },
  {
   "cell_type": "code",
   "execution_count": 15,
   "id": "b7da19f1-abce-4cd4-9b13-f926f56f27c2",
   "metadata": {},
   "outputs": [
    {
     "data": {
      "image/png": "[encoded data removed]",
      "text/plain": [
       "<Figure size 864x504 with 1 Axes>"
      ]
     },
     "metadata": {
      "needs_background": "light"
     },
     "output_type": "display_data"
    },
    {
     "data": {
      "image/png": "[encoded data removed]",
      "text/plain": [
       "<Figure size 864x504 with 1 Axes>"
      ]
     },
     "metadata": {
      "needs_background": "light"
     },
     "output_type": "display_data"
    },
    {
     "data": {
      "image/png": "[encoded data removed]",
      "text/plain": [
       "<Figure size 864x504 with 1 Axes>"
      ]
     },
     "metadata": {
      "needs_background": "light"
     },
     "output_type": "display_data"
    },
    {
     "data": {
      "image/png": "[encoded data removed]",
      "text/plain": [
       "<Figure size 864x504 with 1 Axes>"
      ]
     },
     "metadata": {
      "needs_background": "light"
     },
     "output_type": "display_data"
    }
   ],
   "source": [
    "\n",
    "# plotting utility for feature importances from fastai\n",
    "def plot_fi(fi,title, save=True):\n",
    "    return fi.plot('cols', 'imp', 'barh', title=title, figsize=(12,7), legend=False)\n",
    "\n",
    "\n",
    "# container for feature importances\n",
    "fi_container = {}\n",
    "# custom loop to get feature importances and output them using the convenience functiosn from fastai\n",
    "for idx,m in enumerate(rf_base_models):\n",
    "    train_X = dataloaders_by_tgt[idx][0]\n",
    "    #print(train_X.shape)\n",
    "    feature_importances = rf_feat_importance(m, train_X)\n",
    "    \n",
    "    fi_container[targets[idx]] = feature_importances\n",
    "    #print(feature_importances.sort_values(ascending=False,by='imp')[:10])\n",
    "    # plot top 10 feature importances\n",
    "    plot_fi(feature_importances.sort_values(by='imp')[-10:], title = f'Model for Target \\\"{targets[idx]}\\\"')\n",
    "    \n",
    "  "
   ]
  },
  {
   "cell_type": "markdown",
   "id": "40f0d5ce-258e-45a7-9ca0-3becd5f82c12",
   "metadata": {},
   "source": [
    "<font color=\"purple\"> in the above plots it looks like job name and service name are the clear best predictors, with some other features having decent contribution in certain cases </font>\n",
    "\n",
    "---\n",
    "\n",
    "## random forest, feature selection\n",
    "\n",
    "lets try to simplify the model by using features which have a feature importance of at least 0.03"
   ]
  },
  {
   "cell_type": "code",
   "execution_count": 16,
   "id": "9edc8ef7-60b3-480e-b62c-bda07fb10126",
   "metadata": {
    "tags": []
   },
   "outputs": [
    {
     "name": "stdout",
     "output_type": "stream",
     "text": [
      "keeping 10 columns for model with target ChargeHours\n",
      "keeping 10 columns for model with target ProductionRevActual\n",
      "keeping 11 columns for model with target Cost\n",
      "keeping 10 columns for model with target NumAssociatesOnJob\n",
      "********************************************************************************\n",
      "target var ChargeHours   ---   shape of xs (28628, 20)   ---   shape of filtered xs (28628, 10)\n",
      "target var ProductionRevActual   ---   shape of xs (28628, 20)   ---   shape of filtered xs (28628, 10)\n",
      "target var Cost   ---   shape of xs (28628, 20)   ---   shape of filtered xs (28628, 11)\n",
      "target var NumAssociatesOnJob   ---   shape of xs (28628, 20)   ---   shape of filtered xs (28628, 10)\n",
      "********************************************************************************\n",
      "RF Model for ChargeHours with 10 features\n",
      "OOB Score: 0.2789972768540152\n",
      "New RMSE: 48.7051, Old RMSE: 48.65751840214235, Change (if neg, its an improvement): 0.0476\n",
      "********************************************************************************\n",
      "RF Model for ProductionRevActual with 10 features\n",
      "OOB Score: 0.26266571084310486\n",
      "New RMSE: 9,572.9545, Old RMSE: 9381.848526900307, Change (if neg, its an improvement): 191.1060\n",
      "********************************************************************************\n",
      "RF Model for Cost with 11 features\n",
      "OOB Score: 0.23954928817548116\n",
      "New RMSE: 2,138.5853, Old RMSE: 2103.5828924437606, Change (if neg, its an improvement): 35.0024\n",
      "********************************************************************************\n",
      "RF Model for NumAssociatesOnJob with 10 features\n",
      "OOB Score: 0.4462105711507115\n",
      "New RMSE: 2.1764, Old RMSE: 2.155259671937004, Change (if neg, its an improvement): 0.0211\n",
      "********************************************************************************\n"
     ]
    }
   ],
   "source": [
    "# *****************************************************************\n",
    "# step 1: \n",
    "# fi_container contains key:values where key=name of target var, value=dataframe of feature importances sorted descending\n",
    "cols_to_keep = [] # container to hold the colnames to keep for each model, sorted by idx of 'targets'\n",
    "for k,v in fi_container.items():\n",
    "    keeps = v[v.imp>0.03].cols\n",
    "    cols_to_keep.append(keeps)\n",
    "    print(f'keeping {len(keeps)} columns for model with target {k}')\n",
    "print('*'*80)\n",
    "# *****************************************************************\n",
    "# step 2: save filtered datasets to dataloaders_by_tgt_filtered\n",
    "# iterate over all targets and index into the containers\n",
    "rf_with_fi_fs_rmses = {}\n",
    "rf_with_fi_fs_feat_count = []\n",
    "dataloaders_by_tgt_filtered = []\n",
    "for idx,t in enumerate(targets):\n",
    "    # unpack tuple\n",
    "    xs,y,valid_xs,valid_y = dataloaders_by_tgt[idx]\n",
    "    # filter cols\n",
    "    xs_filtered = xs[cols_to_keep[idx]]\n",
    "    valid_xs_filtered = valid_xs[cols_to_keep[idx]]\n",
    "    print(f'target var {t}   ---   shape of xs {xs.shape}   ---   shape of filtered xs {xs_filtered.shape}')\n",
    "    dataloaders_by_tgt_filtered.append((xs_filtered,y,valid_xs_filtered,valid_y))\n",
    "print('*'*80)\n",
    "# *****************************************************************\n",
    "# step 3: test to see if the model got better using the rf convenience func\n",
    "for idx,t in enumerate(targets):\n",
    "    print(f'RF Model for {t} with {len(cols_to_keep[idx])} features')\n",
    "    # fit model\n",
    "    m = rf(dataloaders_by_tgt_filtered[idx][0], dataloaders_by_tgt_filtered[idx][1])\n",
    "    # look at oob score\n",
    "    print(f'OOB Score: {m.oob_score_}')\n",
    "    preds = m.predict(dataloaders_by_tgt_filtered[idx][2])\n",
    "    # numassociatesonjob\n",
    "    rmse = mean_squared_error(dataloaders_by_tgt_filtered[idx][3], preds,squared=False)\n",
    "    rf_with_fi_fs_rmses[t]=rmse\n",
    "    rf_with_fi_fs_feat_count=len(cols_to_keep[idx])\n",
    "    # convenience to access old results\n",
    "    accessor = f'{t} pred stats (rmse,r2)' # to match the keys from 'results'\n",
    "    # compare rmse\n",
    "    print(f'New RMSE: {rmse:,.4f}, Old RMSE: {rf_base_results[accessor][0]}, Change (if neg, its an improvement): {rmse-rf_base_results[accessor][0]:,.4f}')\n",
    "    # plot column cluster tree of similarity\n",
    "    # cluster_columns(dataloaders_by_tgt_filtered[idx][0])\n",
    "    print('*'*80)"
   ]
  },
  {
   "cell_type": "markdown",
   "id": "d30b4e8f-788d-4c51-9a7c-35446b03d5ac",
   "metadata": {},
   "source": [
    "---\n",
    "\n",
    "### after removing features, we can go back to the full data because of the minimal change\n",
    "\n",
    "it might make sense to do some feature pruning for redundant features, so lets do that simply by looking at our tree diagrams again, but this time for all the features"
   ]
  },
  {
   "cell_type": "code",
   "execution_count": 17,
   "id": "bbef3c4a-2f14-46d2-ab61-ecc058216182",
   "metadata": {},
   "outputs": [
    {
     "data": {
      "image/png": "[encoded data removed]",
      "text/plain": [
       "<Figure size 720x432 with 1 Axes>"
      ]
     },
     "metadata": {
      "needs_background": "light"
     },
     "output_type": "display_data"
    }
   ],
   "source": [
    "# because we are looking at essentiall the same full training set, we can just look at one plot\n",
    "cluster_columns(dataloaders_by_tgt[0][0])"
   ]
  },
  {
   "cell_type": "markdown",
   "id": "20059154-2b9d-4f6f-81b2-9924a8643084",
   "metadata": {},
   "source": [
    "<font color=\"purple\"> it looks like there are some similarities between a few different variables. veriables that are merged early (on the right side) above are done via rank correlation, per Howard &amp; Gugger (2020). So in our case AccountState and Office State, AccountZip and OfficeZip, and OfficeName and OfficeCity are the most redundant features. This is quite similar to the findings from our correlation analysis in our EDA work. So lets remove those features, the only difference we remove AccountState here instead of AccountCity. as below, this gives us 15 columns, which we can test again the random forest models on.</font>"
   ]
  },
  {
   "cell_type": "code",
   "execution_count": 18,
   "id": "f6bc1a4e-9c13-445a-8054-600c975a22da",
   "metadata": {},
   "outputs": [
    {
     "data": {
      "image/png": "[encoded data removed]",
      "text/plain": [
       "<Figure size 720x432 with 1 Axes>"
      ]
     },
     "metadata": {
      "needs_background": "light"
     },
     "output_type": "display_data"
    }
   ],
   "source": [
    "test = dataloaders_by_tgt[0][0].drop(columns=['OfficeState','OfficeCity','OfficeZip','AccountState','MarketName'])\n",
    "cluster_columns(test)            "
   ]
  },
  {
   "cell_type": "markdown",
   "id": "2e22d616-a452-4dae-b952-e83c99aca298",
   "metadata": {},
   "source": [
    "### retraining rf models on 15 features"
   ]
  },
  {
   "cell_type": "code",
   "execution_count": 19,
   "id": "276c9075-41f4-4a77-b541-af65f7879051",
   "metadata": {},
   "outputs": [
    {
     "name": "stdout",
     "output_type": "stream",
     "text": [
      "target var ChargeHours   ---   shape of xs (28628, 20)   ---   shape of filtered xs (28628, 15)\n",
      "target var ProductionRevActual   ---   shape of xs (28628, 20)   ---   shape of filtered xs (28628, 15)\n",
      "target var Cost   ---   shape of xs (28628, 20)   ---   shape of filtered xs (28628, 15)\n",
      "target var NumAssociatesOnJob   ---   shape of xs (28628, 20)   ---   shape of filtered xs (28628, 15)\n",
      "********************************************************************************\n",
      "RF Model for ChargeHours with 15 features\n",
      "OOB Score: 0.2808919132685991\n",
      "New RMSE: 48.4343, Old RMSE: 48.65751840214235, Change (if neg, its an improvement): -0.2233\n",
      "********************************************************************************\n",
      "RF Model for ProductionRevActual with 15 features\n",
      "OOB Score: 0.2844319726978267\n",
      "New RMSE: 9,363.1918, Old RMSE: 9381.848526900307, Change (if neg, its an improvement): -18.6568\n",
      "********************************************************************************\n",
      "RF Model for Cost with 15 features\n",
      "OOB Score: 0.26438761033862435\n",
      "New RMSE: 2,085.0550, Old RMSE: 2103.5828924437606, Change (if neg, its an improvement): -18.5279\n",
      "********************************************************************************\n",
      "RF Model for NumAssociatesOnJob with 15 features\n",
      "OOB Score: 0.4473867585488518\n",
      "New RMSE: 2.1705, Old RMSE: 2.155259671937004, Change (if neg, its an improvement): 0.0153\n",
      "********************************************************************************\n"
     ]
    }
   ],
   "source": [
    "# *****************************************************************\n",
    "# step 1: \n",
    "# fi_container contains key:values where key=name of target var, value=dataframe of feature importances sorted descending\n",
    "cols_to_drop = ['OfficeState','OfficeCity','OfficeZip','AccountState','MarketName']\n",
    "# *****************************************************************\n",
    "# step 2: save filtered datasets to dataloaders_by_tgt_filtered\n",
    "# iterate over all targets and index into the containers\n",
    "dataloaders_by_tgt_filtered = []\n",
    "for idx,t in enumerate(targets):\n",
    "    # unpack tuple\n",
    "    xs,y,valid_xs,valid_y = dataloaders_by_tgt[idx]\n",
    "    # filter cols\n",
    "    xs_filtered = xs.drop(columns=cols_to_drop)\n",
    "    valid_xs_filtered = valid_xs.drop(columns=cols_to_drop)\n",
    "    print(f'target var {t}   ---   shape of xs {xs.shape}   ---   shape of filtered xs {xs_filtered.shape}')\n",
    "    dataloaders_by_tgt_filtered.append((xs_filtered,y,valid_xs_filtered,valid_y))\n",
    "print('*'*80)\n",
    "# *****************************************************************\n",
    "# step 3: test to see if the model got better using the rf convenience func\n",
    "filtered_rf_rmses = {}\n",
    "models_filtered_dfs = []\n",
    "for idx,t in enumerate(targets):\n",
    "    print(f'RF Model for {t} with {len(dataloaders_by_tgt_filtered[idx][0].columns)} features')\n",
    "    # fit model\n",
    "    m = rf(dataloaders_by_tgt_filtered[idx][0], dataloaders_by_tgt_filtered[idx][1])\n",
    "    models_filtered_dfs.append(m)\n",
    "    # look at oob score\n",
    "    print(f'OOB Score: {m.oob_score_}')\n",
    "    preds = m.predict(dataloaders_by_tgt_filtered[idx][2])\n",
    "    # numassociatesonjob\n",
    "    rmse = mean_squared_error(dataloaders_by_tgt_filtered[idx][3], preds,squared=False)\n",
    "    filtered_rf_rmses[t] = rmse\n",
    "    # convenience to access old results\n",
    "    accessor = f'{t} pred stats (rmse,r2)' # to match the keys from 'results'\n",
    "    # compare rmse\n",
    "    print(f'New RMSE: {rmse:,.4f}, Old RMSE: {rf_base_results[accessor][0]}, Change (if neg, its an improvement): {rmse-rf_base_results[accessor][0]:,.4f}')\n",
    "    # plot column cluster tree of similarity\n",
    "    # cluster_columns(dataloaders_by_tgt_filtered[idx][0])\n",
    "    print('*'*80)"
   ]
  },
  {
   "cell_type": "markdown",
   "id": "8ec91214-0e1a-4a2f-b173-fe0f50256f3b",
   "metadata": {},
   "source": [
    "<font color=\"purple\"> YAY! So we have made some improvement in two of the models, and not seen too adverse of effects in the other two. for a simpler model this exchange is well worth it.</font>\n",
    "\n",
    "---\n",
    "\n",
    "### now that we have a better feature set (smaller), lets look at tree interpreter \n",
    "\n",
    "this will help us to see the contributions from feature to each of our model targets\n",
    "\n",
    "again, we are using fastai's guidance and the treeinterpreter/waterfallcharts packages"
   ]
  },
  {
   "cell_type": "code",
   "execution_count": 20,
   "id": "beb059c0-e48f-4f86-b55f-dc4893751d94",
   "metadata": {},
   "outputs": [],
   "source": [
    "import warnings\n",
    "warnings.simplefilter('ignore', FutureWarning)\n",
    "\n",
    "from treeinterpreter import treeinterpreter\n",
    "from waterfall_chart import plot as waterfall"
   ]
  },
  {
   "cell_type": "code",
   "execution_count": 21,
   "id": "d44669c9-e805-4d96-8758-fd5039144762",
   "metadata": {},
   "outputs": [
    {
     "name": "stdout",
     "output_type": "stream",
     "text": [
      "Model for target: ChargeHours\n",
      "Prediction: [0.50008466], Bias: 20.223514985414425, Sum Of Contribs: -19.723430325858544\n"
     ]
    },
    {
     "data": {
      "image/png": "[encoded data removed]",
      "text/plain": [
       "<Figure size 432x288 with 1 Axes>"
      ]
     },
     "metadata": {
      "needs_background": "light"
     },
     "output_type": "display_data"
    },
    {
     "name": "stdout",
     "output_type": "stream",
     "text": [
      "********************************************************************************\n",
      "Model for target: ProductionRevActual\n",
      "Prediction: [56.73222865], Bias: 4184.97596016035, Sum Of Contribs: -4128.243731513991\n"
     ]
    },
    {
     "data": {
      "image/png": "[encoded data removed]",
      "text/plain": [
       "<Figure size 432x288 with 1 Axes>"
      ]
     },
     "metadata": {
      "needs_background": "light"
     },
     "output_type": "display_data"
    },
    {
     "name": "stdout",
     "output_type": "stream",
     "text": [
      "********************************************************************************\n",
      "Model for target: Cost\n",
      "Prediction: [34.04854634], Bias: 939.0134932452892, Sum Of Contribs: -904.9649469036746\n"
     ]
    },
    {
     "data": {
      "image/png": "[encoded data removed]",
      "text/plain": [
       "<Figure size 432x288 with 1 Axes>"
      ]
     },
     "metadata": {
      "needs_background": "light"
     },
     "output_type": "display_data"
    },
    {
     "name": "stdout",
     "output_type": "stream",
     "text": [
      "********************************************************************************\n",
      "Model for target: NumAssociatesOnJob\n",
      "Prediction: [2.53223392], Bias: 3.5221545340226346, Sum Of Contribs: -0.9899206135195742\n"
     ]
    },
    {
     "data": {
      "image/png": "[encoded data removed]",
      "text/plain": [
       "<Figure size 432x288 with 1 Axes>"
      ]
     },
     "metadata": {
      "needs_background": "light"
     },
     "output_type": "display_data"
    },
    {
     "name": "stdout",
     "output_type": "stream",
     "text": [
      "********************************************************************************\n"
     ]
    }
   ],
   "source": [
    "# *****************************************************************\n",
    "for idx,t in enumerate(targets):\n",
    "    print(f'Model for target: {t}')\n",
    "    # step 1: iterate over models and get the first few rows\n",
    "    # using the validation set from the filtered data where idx = the model index, \n",
    "    # and 2 is the 3rd element in the tuple (xs_filtered,y,valid_xs_filtered,valid_y)\n",
    "    row = dataloaders_by_tgt_filtered[idx][2].iloc[:5]\n",
    "    # *****************************************************************\n",
    "    # step 2: get prediction, bias, contribution from treeinterpreter for each model and set of row values\n",
    "    # using the model trained on the filtered dataframe\n",
    "    prediction,bias,contributions = treeinterpreter.predict(models_filtered_dfs[idx], row.values)\n",
    "    # *****************************************************************\n",
    "    # step 3: view the prediction, contribution, and bias of the first row in each models validation data\n",
    "    print(f'Prediction: {prediction[0]}, Bias: {bias[0]}, Sum Of Contribs: {contributions[0].sum()}')\n",
    "    # *****************************************************************\n",
    "    # step 4: look at the contribution for the first row in the validation data via a waterfall plot \n",
    "    # showing the relative contributions to the final pred for each model\n",
    "    waterfall(dataloaders_by_tgt_filtered[idx][2].columns, contributions[0], threshold=0.08, \n",
    "              rotation_value=45,formatting='{:,.3f}')\n",
    "    plt.show()\n",
    "    print('*'*80)"
   ]
  },
  {
   "cell_type": "markdown",
   "id": "b773c57d-1240-4f20-ae5f-8d4e00783a19",
   "metadata": {},
   "source": [
    "<font color=\"purple\"> in short, the contributions demonstrate the relative impact of each variable on the outcome 'net' </font>"
   ]
  },
  {
   "cell_type": "markdown",
   "id": "fa664d2c-9004-4421-a130-d4909fbddedb",
   "metadata": {},
   "source": [
    "---\n",
    "\n",
    "## Can we do bettter with XgBoost?\n",
    "\n",
    "we will try this on our filtered set of 15 features for each of our targets, so 4 models in total"
   ]
  },
  {
   "cell_type": "code",
   "execution_count": 22,
   "id": "493cccd7-8190-466f-a261-58e5d66c91e0",
   "metadata": {},
   "outputs": [],
   "source": [
    "import xgboost as xgb\n",
    "from sklearn.model_selection import RandomizedSearchCV\n",
    "import time\n",
    "from scipy.stats import uniform, randint\n",
    "# using XGBRegressor, could also try XGBRFRegressor which uses a random forest implementation"
   ]
  },
  {
   "cell_type": "code",
   "execution_count": 23,
   "id": "91132ff3-a179-40de-9ade-68ecdaa85eaf",
   "metadata": {},
   "outputs": [
    {
     "data": {
      "text/plain": [
       "{'ChargeHours': 48.434262537826186,\n",
       " 'ProductionRevActual': 9363.191750882717,\n",
       " 'Cost': 2085.0549581288415,\n",
       " 'NumAssociatesOnJob': 2.170539793423609}"
      ]
     },
     "execution_count": 23,
     "metadata": {},
     "output_type": "execute_result"
    }
   ],
   "source": [
    "# use our filtered dataloaders\n",
    "#dataloaders_by_tgt_filtered\n",
    "filtered_rf_rmses"
   ]
  },
  {
   "cell_type": "code",
   "execution_count": 24,
   "id": "1b02434e-df55-4757-9346-a0bd4388552b",
   "metadata": {},
   "outputs": [
    {
     "name": "stdout",
     "output_type": "stream",
     "text": [
      "********************************************************************************\n",
      "RF Model for ChargeHours with 15 features\n",
      "Fitting 5 folds for each of 25 candidates, totalling 125 fits\n",
      "took 26.74 seconds to perform randomized search\n",
      "best params: {'learning_rate': 0.1, 'max_depth': 7, 'min_child_weight': 7, 'n_estimators': 138, 'reg_alpha': 1.1396758127097084, 'reg_lambda': 2.1355389431312815, 'subsample': 0.8271140276263684, 'tree_method': 'hist'}\n",
      "New RMSE: 49.2210, RF Filtered RMSE: 48.434262537826186, Change (if neg, its an improvement): 0.7867\n",
      "********************************************************************************\n",
      "RF Model for ProductionRevActual with 15 features\n",
      "Fitting 5 folds for each of 25 candidates, totalling 125 fits\n",
      "took 23.60 seconds to perform randomized search\n",
      "best params: {'learning_rate': 0.1, 'max_depth': 4, 'min_child_weight': 4, 'n_estimators': 99, 'reg_alpha': 2.560465291496405, 'reg_lambda': 1.1324788759896898, 'subsample': 0.6629141508889774, 'tree_method': 'hist'}\n",
      "New RMSE: 9,607.2764, RF Filtered RMSE: 9363.191750882717, Change (if neg, its an improvement): 244.0846\n",
      "********************************************************************************\n",
      "RF Model for Cost with 15 features\n",
      "Fitting 5 folds for each of 25 candidates, totalling 125 fits\n",
      "took 22.19 seconds to perform randomized search\n",
      "best params: {'learning_rate': 0.1, 'max_depth': 4, 'min_child_weight': 4, 'n_estimators': 99, 'reg_alpha': 2.560465291496405, 'reg_lambda': 1.1324788759896898, 'subsample': 0.6629141508889774, 'tree_method': 'hist'}\n",
      "New RMSE: 2,158.2805, RF Filtered RMSE: 2085.0549581288415, Change (if neg, its an improvement): 73.2256\n",
      "********************************************************************************\n",
      "RF Model for NumAssociatesOnJob with 15 features\n",
      "Fitting 5 folds for each of 25 candidates, totalling 125 fits\n",
      "took 26.68 seconds to perform randomized search\n",
      "best params: {'learning_rate': 0.1, 'max_depth': 7, 'min_child_weight': 7, 'n_estimators': 138, 'reg_alpha': 1.1396758127097084, 'reg_lambda': 2.1355389431312815, 'subsample': 0.8271140276263684, 'tree_method': 'hist'}\n",
      "New RMSE: 2.1612, RF Filtered RMSE: 2.170539793423609, Change (if neg, its an improvement): -0.0094\n",
      "********************************************************************************\n"
     ]
    }
   ],
   "source": [
    "print('*'*80)\n",
    "# *****************************************************************\n",
    "# step 3: test to see if the model got better using the rf convenience func\n",
    "xgb_rmses = {}\n",
    "xgb_models = []\n",
    "for idx,t in enumerate(targets):\n",
    "    print(f'RF Model for {t} with {len(dataloaders_by_tgt_filtered[idx][0].columns)} features')\n",
    "    # instsantiate and fit model\n",
    "    xgb_regr = xgb.XGBRegressor()\n",
    "    # instantiate params dict for randomized search\n",
    "    params = {\n",
    "    \"learning_rate\": [0.001, 0.01, 0.1, 0.5, 1.],\n",
    "    \"max_depth\": randint(1, 10),\n",
    "    \"n_estimators\": randint(10, 150),\n",
    "    \"subsample\": uniform(0.05, 0.95),  # so uniform on [.05,.05+.95] = [.05,1.]\n",
    "    \"min_child_weight\": randint(1, 20),\n",
    "    \"reg_alpha\": uniform(0, 5),\n",
    "    \"reg_lambda\": uniform(0, 5),\n",
    "    \"tree_method\": ['hist'] # trying hist method because its said to work well with \n",
    "    }\n",
    "    # time the randomized search\n",
    "    start = time.time()\n",
    "    xgb_rs = RandomizedSearchCV(xgb_regr,param_distributions=params,random_state=42,\n",
    "                                n_iter=25,cv=5,verbose=1,n_jobs=-1,return_train_score=True)\n",
    "    xgb_rs.fit(dataloaders_by_tgt_filtered[idx][0], dataloaders_by_tgt_filtered[idx][1])\n",
    "    end = time.time()\n",
    "    delta = end - start\n",
    "    print(f\"took {delta:.2f} seconds to perform randomized search\")\n",
    "    print(f'best params: {xgb_rs.best_params_}')\n",
    "    # train final model\n",
    "    xgb_best_params = xgb.XGBRegressor(random_state=42, n_jobs=-1,**xgb_rs.best_params_)\n",
    "    m = xgb_best_params.fit(dataloaders_by_tgt_filtered[idx][0], dataloaders_by_tgt_filtered[idx][1])\n",
    "    xgb_models.append(m)\n",
    "    preds = m.predict(dataloaders_by_tgt_filtered[idx][2])\n",
    "    # numassociatesonjob\n",
    "    rmse = mean_squared_error(dataloaders_by_tgt_filtered[idx][3], preds,squared=False)\n",
    "    xgb_rmses[t] = rmse\n",
    "    # compare rmse\n",
    "    print(f'New RMSE: {rmse:,.4f}, RF Filtered RMSE: {filtered_rf_rmses[t]}, Change (if neg, its an improvement): {rmse-filtered_rf_rmses[t]:,.4f}')\n",
    "    print('*'*80)"
   ]
  },
  {
   "cell_type": "code",
   "execution_count": 25,
   "id": "4bf22953-f9c9-4ad4-bfb5-bb120d62c975",
   "metadata": {},
   "outputs": [
    {
     "name": "stdout",
     "output_type": "stream",
     "text": [
      "XGB Model with Bayesian Optimization for ChargeHours with 15 features\n",
      "num acquisition: 1, time elapsed: 2.70s\n",
      "num acquisition: 2, time elapsed: 4.42s\n",
      "num acquisition: 3, time elapsed: 6.07s\n",
      "num acquisition: 4, time elapsed: 7.80s\n",
      "num acquisition: 5, time elapsed: 9.66s\n",
      "num acquisition: 6, time elapsed: 11.75s\n",
      "num acquisition: 7, time elapsed: 13.57s\n",
      "num acquisition: 8, time elapsed: 14.87s\n",
      "num acquisition: 9, time elapsed: 26.87s\n",
      "num acquisition: 10, time elapsed: 28.46s\n",
      "num acquisition: 11, time elapsed: 29.14s\n",
      "num acquisition: 12, time elapsed: 35.46s\n",
      "num acquisition: 13, time elapsed: 35.86s\n",
      "num acquisition: 14, time elapsed: 36.54s\n",
      "num acquisition: 15, time elapsed: 38.34s\n",
      "num acquisition: 16, time elapsed: 39.33s\n",
      "num acquisition: 17, time elapsed: 52.70s\n",
      "num acquisition: 18, time elapsed: 53.37s\n",
      "num acquisition: 19, time elapsed: 54.26s\n",
      "num acquisition: 20, time elapsed: 54.85s\n",
      "took 61.02 seconds to perform bayesian optimization\n",
      "best params: {'learning_rate': 1.0, 'max_depth': 1, 'n_estimators': 150, 'subsample': 1.0, 'min_child_weight': 20, 'reg_alpha': 0.0, 'reg_lambda': 0.03161515588952435}\n",
      "New RMSE: 52.7661, RF Filtered RMSE: 48.434262537826186, Change (if neg, its an improvement): 4.3319\n",
      "********************************************************************************\n",
      "XGB Model with Bayesian Optimization for ProductionRevActual with 15 features\n",
      "num acquisition: 1, time elapsed: 1.17s\n",
      "num acquisition: 2, time elapsed: 2.28s\n",
      "num acquisition: 3, time elapsed: 3.51s\n",
      "num acquisition: 4, time elapsed: 4.62s\n",
      "num acquisition: 5, time elapsed: 5.84s\n",
      "num acquisition: 6, time elapsed: 7.03s\n",
      "num acquisition: 7, time elapsed: 8.32s\n",
      "num acquisition: 8, time elapsed: 9.54s\n",
      "num acquisition: 9, time elapsed: 10.78s\n",
      "num acquisition: 10, time elapsed: 12.16s\n",
      "num acquisition: 11, time elapsed: 13.38s\n",
      "num acquisition: 12, time elapsed: 14.56s\n",
      "num acquisition: 13, time elapsed: 15.73s\n",
      "num acquisition: 14, time elapsed: 16.98s\n",
      "num acquisition: 15, time elapsed: 18.14s\n",
      "num acquisition: 16, time elapsed: 19.48s\n",
      "num acquisition: 17, time elapsed: 20.71s\n",
      "num acquisition: 18, time elapsed: 21.84s\n",
      "num acquisition: 19, time elapsed: 23.18s\n",
      "num acquisition: 20, time elapsed: 24.32s\n",
      "took 29.36 seconds to perform bayesian optimization\n",
      "best params: {'learning_rate': 0.2837499821509013, 'max_depth': 10, 'n_estimators': 10, 'subsample': 0.7259812205622356, 'min_child_weight': 20, 'reg_alpha': 2.729104542055283, 'reg_lambda': 3.7134301452559653}\n",
      "New RMSE: 9,542.2080, RF Filtered RMSE: 9363.191750882717, Change (if neg, its an improvement): 179.0163\n",
      "********************************************************************************\n",
      "XGB Model with Bayesian Optimization for Cost with 15 features\n",
      "num acquisition: 1, time elapsed: 2.10s\n",
      "num acquisition: 2, time elapsed: 4.43s\n",
      "num acquisition: 3, time elapsed: 7.04s\n",
      "num acquisition: 4, time elapsed: 9.31s\n",
      "num acquisition: 5, time elapsed: 11.05s\n",
      "num acquisition: 6, time elapsed: 13.38s\n",
      "num acquisition: 7, time elapsed: 16.13s\n",
      "num acquisition: 8, time elapsed: 18.73s\n",
      "num acquisition: 9, time elapsed: 21.07s\n",
      "num acquisition: 10, time elapsed: 24.23s\n",
      "num acquisition: 11, time elapsed: 26.32s\n",
      "num acquisition: 12, time elapsed: 28.10s\n",
      "num acquisition: 13, time elapsed: 29.79s\n",
      "num acquisition: 14, time elapsed: 31.48s\n",
      "num acquisition: 15, time elapsed: 33.78s\n",
      "num acquisition: 16, time elapsed: 35.56s\n",
      "num acquisition: 17, time elapsed: 37.27s\n",
      "num acquisition: 18, time elapsed: 38.96s\n",
      "num acquisition: 19, time elapsed: 40.73s\n",
      "num acquisition: 20, time elapsed: 42.42s\n",
      "took 55.08 seconds to perform bayesian optimization\n",
      "best params: {'learning_rate': 1.0, 'max_depth': 1, 'n_estimators': 150, 'subsample': 1.0, 'min_child_weight': 20, 'reg_alpha': 0.5764730858973383, 'reg_lambda': 1.9198048866775907}\n",
      "New RMSE: 2,233.7256, RF Filtered RMSE: 2085.0549581288415, Change (if neg, its an improvement): 148.6706\n",
      "********************************************************************************\n",
      "XGB Model with Bayesian Optimization for NumAssociatesOnJob with 15 features\n",
      "num acquisition: 1, time elapsed: 2.62s\n",
      "num acquisition: 2, time elapsed: 4.48s\n",
      "num acquisition: 3, time elapsed: 6.40s\n",
      "num acquisition: 4, time elapsed: 8.34s\n",
      "num acquisition: 5, time elapsed: 10.26s\n",
      "num acquisition: 6, time elapsed: 25.00s\n",
      "num acquisition: 7, time elapsed: 37.21s\n",
      "num acquisition: 8, time elapsed: 38.34s\n",
      "num acquisition: 9, time elapsed: 39.59s\n",
      "num acquisition: 10, time elapsed: 40.33s\n",
      "num acquisition: 11, time elapsed: 41.55s\n",
      "num acquisition: 12, time elapsed: 44.57s\n",
      "num acquisition: 13, time elapsed: 46.61s\n",
      "num acquisition: 14, time elapsed: 61.20s\n",
      "num acquisition: 15, time elapsed: 62.37s\n",
      "num acquisition: 16, time elapsed: 62.84s\n",
      "num acquisition: 17, time elapsed: 64.17s\n",
      "num acquisition: 18, time elapsed: 65.47s\n",
      "num acquisition: 19, time elapsed: 66.75s\n",
      "num acquisition: 20, time elapsed: 69.60s\n",
      "took 75.40 seconds to perform bayesian optimization\n",
      "best params: {'learning_rate': 1.0, 'max_depth': 10, 'n_estimators': 10, 'subsample': 1.0, 'min_child_weight': 20, 'reg_alpha': 3.1020035451662626, 'reg_lambda': 5.0}\n",
      "New RMSE: 2.3490, RF Filtered RMSE: 2.170539793423609, Change (if neg, its an improvement): 0.1785\n",
      "********************************************************************************\n"
     ]
    }
   ],
   "source": [
    "np.random.seed(42)\n",
    "from GPyOpt.methods import BayesianOptimization\n",
    "from sklearn.model_selection import cross_val_score, KFold\n",
    "# USING TEMPLATE CODE FROM DS775 HOMEWORK 8\n",
    "hp_bounds = [\n",
    "    {'name': 'learning_rate','type': 'continuous','domain': (0.001, 1.0)}, \n",
    "    {'name': 'max_depth','type': 'discrete','domain': (1, 10)}, \n",
    "    {'name': 'n_estimators','type': 'discrete','domain': (10, 150)}, \n",
    "    {'name': 'subsample','type': 'continuous','domain': (0.05, 1.0)}, \n",
    "    {'name': 'min_child_weight','type': 'discrete','domain': (1, 20)}, \n",
    "    {'name': 'reg_alpha','type': 'continuous','domain': (0, 5)}, \n",
    "    {'name': 'reg_lambda','type': 'continuous','domain': (0, 5)}]\n",
    "\n",
    "xgb_bayopt_models = []\n",
    "xgb_bayopt_rmses = {}\n",
    "xgb_bayopt_hyperparamter_sets = []\n",
    "for idx,t in enumerate(targets):\n",
    "    print(f'XGB Model with Bayesian Optimization for {t} with {len(dataloaders_by_tgt_filtered[idx][0].columns)} features')\n",
    "    # time the randomized search\n",
    "    start = time.time()\n",
    "    # Optimization objective\n",
    "    def cv_score(hyp_parameters):\n",
    "        hyp_parameters = hyp_parameters[0]\n",
    "        xgb_model = xgb.XGBRegressor(objective='reg:squarederror',learning_rate=hyp_parameters[0],\n",
    "                                     max_depth=int(hyp_parameters[1]),n_estimators=int(hyp_parameters[2]),\n",
    "                                     subsample=hyp_parameters[3],min_child_weight=int(hyp_parameters[4]),\n",
    "                                     reg_alpha=hyp_parameters[5],reg_lambda=hyp_parameters[6])\n",
    "        \n",
    "        scores = cross_val_score(xgb_model, X=dataloaders_by_tgt_filtered[idx][0],\n",
    "                                 y=dataloaders_by_tgt_filtered[idx][1],cv=KFold(n_splits=5))\n",
    "        return np.array(scores.mean())  # return average of 5-fold scores\n",
    "\n",
    "    optimizer = BayesianOptimization(f=cv_score,domain=hp_bounds,model_type='GP',acquisition_type='EI',\n",
    "                                     acquisition_jitter=0.05,exact_feval=True,maximize=True,verbosity=False)\n",
    "    optimizer.run_optimization(max_iter=20,verbosity=True)\n",
    "    # ----------------- get best hyperparamters ---------------------\n",
    "    best_hyp_set = {}\n",
    "    for i in range(len(hp_bounds)):\n",
    "        if hp_bounds[i]['type'] == 'continuous':\n",
    "            best_hyp_set[hp_bounds[i]['name']] = optimizer.x_opt[i]\n",
    "        else:\n",
    "            best_hyp_set[hp_bounds[i]['name']] = int(optimizer.x_opt[i])\n",
    "    xgb_bayopt_hyperparamter_sets.append(best_hyp_set)\n",
    "\n",
    "    end = time.time()\n",
    "    delta = end - start\n",
    "    print(f\"took {delta:.2f} seconds to perform bayesian optimization\")\n",
    "    print(f'best params: {best_hyp_set}')\n",
    "    # train final model\n",
    "    bayopt_search = xgb.XGBRegressor(objective='reg:squarederror',**best_hyp_set)\n",
    "    m = bayopt_search.fit(dataloaders_by_tgt_filtered[idx][0], dataloaders_by_tgt_filtered[idx][1])\n",
    "    xgb_bayopt_models.append(m)\n",
    "    preds = m.predict(dataloaders_by_tgt_filtered[idx][2])\n",
    "    # numassociatesonjob\n",
    "    rmse = mean_squared_error(dataloaders_by_tgt_filtered[idx][3], preds,squared=False)\n",
    "    xgb_bayopt_rmses[t] = rmse\n",
    "    # compare rmse\n",
    "    print(f'New RMSE: {rmse:,.4f}, RF Filtered RMSE: {filtered_rf_rmses[t]}, Change (if neg, its an improvement): {rmse-filtered_rf_rmses[t]:,.4f}')\n",
    "    print('*'*80)"
   ]
  },
  {
   "cell_type": "markdown",
   "id": "ef585ed9-ec5a-474e-864b-392e31e060da",
   "metadata": {},
   "source": [
    "<font color=\"purple\">So XGBoost doesn\\'t seem to make much of a difference, in fact it is worse than a random forest model. interesting</font>"
   ]
  },
  {
   "cell_type": "markdown",
   "id": "36819fa6-e3bd-497a-8f5c-177a1d1399cd",
   "metadata": {},
   "source": [
    "---\n",
    "\n",
    "\n",
    "# <font color=\"blue\">Neural Net</font>\n",
    "\n",
    "<font color=\"blue\">now that we've run through the random forest modeling pretty thoroughly, lets try a neural network. we can check performance versus random forest and xgb, but more importantly this will allow us to use entity embeddings from the neural net as inputs to an xgboost model.</font>\n",
    "\n",
    "\n",
    "first though, we will replicate the setup steps from above so we start with a clean slate"
   ]
  },
  {
   "cell_type": "code",
   "execution_count": 26,
   "id": "830919a3-4042-4acc-8555-c06fa0cf4250",
   "metadata": {},
   "outputs": [],
   "source": [
    "# ******************************************************************************************\n",
    "# reload data\n",
    "df = pd.read_csv('./data/clean_data.csv', low_memory=False)\n",
    "\n",
    "# ******************************************************************************************\n",
    "# declare cols\n",
    "cats = ['CalendarYear', 'OfficeCity', 'OfficeState', 'OfficeZip', 'OfficeName',\n",
    "       'AccountCity', 'AccountState', 'AccountZip', 'AccountNaicsName',\n",
    "       'MarketName', 'ServiceName', 'ServiceLineName', 'IndustryName',\n",
    "       'JobName','SEC/Publicly Traded']\n",
    "ords = ['JobTaxComplexity','Annual Sales','Assets', 'Employees']\n",
    "numerics = ['# of Locations']\n",
    "targets = ['ChargeHours', 'ProductionRevActual',\n",
    "       'Cost', 'NumAssociatesOnJob']\n",
    "df = df[cats+ords+numerics+targets]\n",
    "\n",
    "\n",
    "# ******************************************************************************************\n",
    "# define our orders. note that money_ords is used twice in the dict(zip()) below\n",
    "money_ords = ['Unknown','Under $200K','$200K - $499K','$500K - $999K','1M - 2.4M','2.5M - 4.9M','5M - 9.9M'\n",
    "                         ,'10M - 24.9M','25M - 49M','50M - 99M','100M - 249M','250M - 499M','500M - 749M'\n",
    "                         ,'750M - 999M','1B - 1.49B','1.5B - 1.9B','2B +']\n",
    "emp_ords = ['Unknown', '1 - 9', '10 - 24', '25 - 49', '50 - 99', '100 - 249', '250 - 499', '500 - 999', '1,000 - 2,499'\n",
    "                         , '2,500 - 4,999', '5,000 - 9,999', '10,000 - 14,999', '15,000 - 19,999','20,000 +']\n",
    "\n",
    "jt_complex_ords = ['Not Applicable', 'Basic', 'Intermediate', 'Complex']\n",
    "# ******************************************************************************************\n",
    "# create our ordinal column:orderedvalue mapping\n",
    "col_order_dict = dict(zip(ords,[jt_complex_ords,money_ords, money_ords, emp_ords]))\n",
    "#col_order_dict\n",
    "# ******************************************************************************************\n",
    "# set values\n",
    "for col in ords:\n",
    "    # set astype category\n",
    "    df[col] = df[col].astype('category')\n",
    "    # grab order list and pass it to set_categories\n",
    "    df[col] = df[col].cat.set_categories(col_order_dict[col], ordered=True)\n",
    "    \n",
    "# ******************************************************************************************"
   ]
  },
  {
   "cell_type": "code",
   "execution_count": 27,
   "id": "960c0f31-6028-4132-ace3-a25f41108b96",
   "metadata": {},
   "outputs": [],
   "source": [
    "# ref: https://github.com/fastai/fastai/blob/master/fastai/metrics.py\n",
    "# ref2:\n",
    "from fastai.metrics import _rmse # importing the metric class for use in the callback\n",
    "def nn_wrapper(df_nn, cont_nn, cat_nn, dep_var, nn_layers = [500,250], comp_rmse = 0., comp_rmse_arch='RF'):\n",
    "    print(f'NN Model for target {dep_var}')\n",
    "    # ----- set model name \n",
    "    model_name = f'nn_{dep_var}'\n",
    "    print(f'model_name: {model_name}')\n",
    "    # -------------------------------------\n",
    "    procs_nn = [Categorify, FillMissing, Normalize]\n",
    "    to_nn = TabularPandas(df_nn, procs_nn, cat_nn, cont_nn,\n",
    "                          splits=RandomSplitter(valid_pct=0.2, seed=42)(range_of(df_nn))\n",
    "                          , y_names=dep_var)\n",
    "    dls = to_nn.dataloaders(1024)\n",
    "    # -------------------------------------\n",
    "    \n",
    "    # create learner\n",
    "    y = to_nn.train.y # just to get yraange when instnatiating our learner\n",
    "    # create callback to track our best model\n",
    "    best_model_callback = [SaveModelCallback(monitor='_rmse', comp=np.less, fname=model_name+'_bestM')] # using model name from early in the func\n",
    "    learn = tabular_learner(dls, y_range=(round(y.min(),0)*0.9,round(y.max(),0)*1.1), layers=nn_layers,\n",
    "                         loss_func=F.mse_loss, metrics=_rmse, cbs=best_model_callback)\n",
    "    \n",
    "    # # save the namedTuple optimal learning rate\n",
    "    optimal_lr = learn.lr_find()\n",
    "    print(f'Optimal Learning Rate: {optimal_lr[0]}')\n",
    "    learn.fit_one_cycle(20,optimal_lr[0])#, wd=1e-2) # pass LR to fit, use wd of 1e-1 or 1e-2 (fastai default)\n",
    "\n",
    "    preds,targs = learn.get_preds()\n",
    "    rmse = mean_squared_error(targs,preds,squared=False)\n",
    "    print(\"RMSE:\", rmse)\n",
    "    r2 = r2_score(targs, preds)\n",
    "    print(\"R2:\", r2)\n",
    "    print(f'Comp rmse arch: {comp_rmse_arch}, rmse: {comp_rmse}\\tDiff(negative = better): {rmse-comp_rmse}')\n",
    "\n",
    "    print('*'*80)\n",
    "    \n",
    "    return model_name, dls, learn, to_nn"
   ]
  },
  {
   "cell_type": "code",
   "execution_count": 28,
   "id": "12d1f982-2817-48d3-ab2b-20445862d4fd",
   "metadata": {},
   "outputs": [
    {
     "data": {
      "text/plain": [
       "(20, 4)"
      ]
     },
     "execution_count": 28,
     "metadata": {},
     "output_type": "execute_result"
    }
   ],
   "source": [
    "# get columns\n",
    "targets = ['ChargeHours','ProductionRevActual','Cost','NumAssociatesOnJob']\n",
    "features = [col for col in df.columns.tolist() if col not in targets]\n",
    "len(features),len(targets)"
   ]
  },
  {
   "cell_type": "code",
   "execution_count": 29,
   "id": "782e9018-73e5-4ce9-9b0a-12d368508a7e",
   "metadata": {
    "tags": []
   },
   "outputs": [],
   "source": [
    "cont_nn,cat_nn = cont_cat_split(df[features], max_card=9000, dep_var=targets[0])\n",
    "#cont_nn, cat_nn"
   ]
  },
  {
   "cell_type": "code",
   "execution_count": 30,
   "id": "8cd79fb8-fa70-4bdf-9c1f-2d36d0e3a43c",
   "metadata": {},
   "outputs": [
    {
     "name": "stdout",
     "output_type": "stream",
     "text": [
      "{'ChargeHours': dtype('float64'), 'ProductionRevActual': dtype('float64'), 'Cost': dtype('float64'), 'NumAssociatesOnJob': dtype('int64')}\n"
     ]
    },
    {
     "data": {
      "text/plain": [
       "ChargeHours            float64\n",
       "ProductionRevActual    float64\n",
       "Cost                   float64\n",
       "NumAssociatesOnJob     float64\n",
       "dtype: object"
      ]
     },
     "execution_count": 30,
     "metadata": {},
     "output_type": "execute_result"
    }
   ],
   "source": [
    "# convert our targets to floats if not already\n",
    "d = dict(df[targets].dtypes)\n",
    "print(d)\n",
    "for k,v in d.items():\n",
    "    if df[k].dtype!= np.float:\n",
    "        df = df.astype({k:np.float64})\n",
    "    #print(df[k].dtype, df[k].dtype!= np.float)\n",
    "#print(d[targets[0]] == np.int,d[targets[1]] == np.integer,d[targets[2]] == np.int,d[targets[3]] != np.float)\n",
    "df[targets].dtypes"
   ]
  },
  {
   "cell_type": "code",
   "execution_count": 31,
   "id": "4cd71dc2-69e1-480f-8fae-88098cc81a02",
   "metadata": {
    "tags": []
   },
   "outputs": [
    {
     "name": "stdout",
     "output_type": "stream",
     "text": [
      "****************NEURAL NET MODELS****************\n",
      "*************************************************\n",
      "*\tstarted: 2022-04-18 11:43:13.272202\t*\n",
      "*************************************************\n",
      "NN Model for target ChargeHours\n",
      "model_name: nn_ChargeHours\n"
     ]
    },
    {
     "data": {
      "text/html": [
       "\n",
       "<style>\n",
       "    /* Turns off some styling */\n",
       "    progress {\n",
       "        /* gets rid of default border in Firefox and Opera. */\n",
       "        border: none;\n",
       "        /* Needs to be in here for Safari polyfill so background images work as expected. */\n",
       "        background-size: auto;\n",
       "    }\n",
       "    .progress-bar-interrupted, .progress-bar-interrupted::-webkit-progress-bar {\n",
       "        background: #F44336;\n",
       "    }\n",
       "</style>\n"
      ],
      "text/plain": [
       "<IPython.core.display.HTML object>"
      ]
     },
     "metadata": {},
     "output_type": "display_data"
    },
    {
     "data": {
      "text/html": [],
      "text/plain": [
       "<IPython.core.display.HTML object>"
      ]
     },
     "metadata": {},
     "output_type": "display_data"
    },
    {
     "name": "stdout",
     "output_type": "stream",
     "text": [
      "Optimal Learning Rate: 0.001737800776027143\n"
     ]
    },
    {
     "data": {
      "text/html": [
       "\n",
       "<style>\n",
       "    /* Turns off some styling */\n",
       "    progress {\n",
       "        /* gets rid of default border in Firefox and Opera. */\n",
       "        border: none;\n",
       "        /* Needs to be in here for Safari polyfill so background images work as expected. */\n",
       "        background-size: auto;\n",
       "    }\n",
       "    .progress-bar-interrupted, .progress-bar-interrupted::-webkit-progress-bar {\n",
       "        background: #F44336;\n",
       "    }\n",
       "</style>\n"
      ],
      "text/plain": [
       "<IPython.core.display.HTML object>"
      ]
     },
     "metadata": {},
     "output_type": "display_data"
    },
    {
     "data": {
      "text/html": [
       "<table border=\"1\" class=\"dataframe\">\n",
       "  <thead>\n",
       "    <tr style=\"text-align: left;\">\n",
       "      <th>epoch</th>\n",
       "      <th>train_loss</th>\n",
       "      <th>valid_loss</th>\n",
       "      <th>_rmse</th>\n",
       "      <th>time</th>\n",
       "    </tr>\n",
       "  </thead>\n",
       "  <tbody>\n",
       "    <tr>\n",
       "      <td>0</td>\n",
       "      <td>1314251.000000</td>\n",
       "      <td>1248102.875000</td>\n",
       "      <td>1117.185181</td>\n",
       "      <td>00:02</td>\n",
       "    </tr>\n",
       "    <tr>\n",
       "      <td>1</td>\n",
       "      <td>1252461.500000</td>\n",
       "      <td>1170593.000000</td>\n",
       "      <td>1081.939209</td>\n",
       "      <td>00:02</td>\n",
       "    </tr>\n",
       "    <tr>\n",
       "      <td>2</td>\n",
       "      <td>1073914.750000</td>\n",
       "      <td>596079.312500</td>\n",
       "      <td>772.055298</td>\n",
       "      <td>00:02</td>\n",
       "    </tr>\n",
       "    <tr>\n",
       "      <td>3</td>\n",
       "      <td>697939.250000</td>\n",
       "      <td>79035.382812</td>\n",
       "      <td>281.127258</td>\n",
       "      <td>00:02</td>\n",
       "    </tr>\n",
       "    <tr>\n",
       "      <td>4</td>\n",
       "      <td>401714.750000</td>\n",
       "      <td>18030.425781</td>\n",
       "      <td>134.262772</td>\n",
       "      <td>00:02</td>\n",
       "    </tr>\n",
       "    <tr>\n",
       "      <td>5</td>\n",
       "      <td>232042.203125</td>\n",
       "      <td>11647.029297</td>\n",
       "      <td>107.898369</td>\n",
       "      <td>00:02</td>\n",
       "    </tr>\n",
       "    <tr>\n",
       "      <td>6</td>\n",
       "      <td>135661.140625</td>\n",
       "      <td>6902.691406</td>\n",
       "      <td>83.021317</td>\n",
       "      <td>00:02</td>\n",
       "    </tr>\n",
       "    <tr>\n",
       "      <td>7</td>\n",
       "      <td>80051.171875</td>\n",
       "      <td>5693.622070</td>\n",
       "      <td>75.272263</td>\n",
       "      <td>00:02</td>\n",
       "    </tr>\n",
       "    <tr>\n",
       "      <td>8</td>\n",
       "      <td>47800.707031</td>\n",
       "      <td>5672.794922</td>\n",
       "      <td>74.724335</td>\n",
       "      <td>00:02</td>\n",
       "    </tr>\n",
       "    <tr>\n",
       "      <td>9</td>\n",
       "      <td>29045.597656</td>\n",
       "      <td>5603.483887</td>\n",
       "      <td>73.202637</td>\n",
       "      <td>00:02</td>\n",
       "    </tr>\n",
       "    <tr>\n",
       "      <td>10</td>\n",
       "      <td>18076.341797</td>\n",
       "      <td>3852.281982</td>\n",
       "      <td>61.384060</td>\n",
       "      <td>00:02</td>\n",
       "    </tr>\n",
       "    <tr>\n",
       "      <td>11</td>\n",
       "      <td>11491.826172</td>\n",
       "      <td>3364.055176</td>\n",
       "      <td>57.923107</td>\n",
       "      <td>00:02</td>\n",
       "    </tr>\n",
       "    <tr>\n",
       "      <td>12</td>\n",
       "      <td>7528.236816</td>\n",
       "      <td>3355.061279</td>\n",
       "      <td>57.568031</td>\n",
       "      <td>00:02</td>\n",
       "    </tr>\n",
       "    <tr>\n",
       "      <td>13</td>\n",
       "      <td>5128.766113</td>\n",
       "      <td>3839.241943</td>\n",
       "      <td>61.843166</td>\n",
       "      <td>00:02</td>\n",
       "    </tr>\n",
       "    <tr>\n",
       "      <td>14</td>\n",
       "      <td>3587.437256</td>\n",
       "      <td>2760.062012</td>\n",
       "      <td>52.466972</td>\n",
       "      <td>00:02</td>\n",
       "    </tr>\n",
       "    <tr>\n",
       "      <td>15</td>\n",
       "      <td>2628.856934</td>\n",
       "      <td>2860.053467</td>\n",
       "      <td>53.296463</td>\n",
       "      <td>00:02</td>\n",
       "    </tr>\n",
       "    <tr>\n",
       "      <td>16</td>\n",
       "      <td>1985.107544</td>\n",
       "      <td>2964.747559</td>\n",
       "      <td>54.279709</td>\n",
       "      <td>00:02</td>\n",
       "    </tr>\n",
       "    <tr>\n",
       "      <td>17</td>\n",
       "      <td>1555.345337</td>\n",
       "      <td>2836.021240</td>\n",
       "      <td>53.059361</td>\n",
       "      <td>00:02</td>\n",
       "    </tr>\n",
       "    <tr>\n",
       "      <td>18</td>\n",
       "      <td>1275.945923</td>\n",
       "      <td>2802.779297</td>\n",
       "      <td>52.768078</td>\n",
       "      <td>00:02</td>\n",
       "    </tr>\n",
       "    <tr>\n",
       "      <td>19</td>\n",
       "      <td>1109.077148</td>\n",
       "      <td>2830.969238</td>\n",
       "      <td>53.034340</td>\n",
       "      <td>00:02</td>\n",
       "    </tr>\n",
       "  </tbody>\n",
       "</table>"
      ],
      "text/plain": [
       "<IPython.core.display.HTML object>"
      ]
     },
     "metadata": {},
     "output_type": "display_data"
    },
    {
     "name": "stdout",
     "output_type": "stream",
     "text": [
      "Better model found at epoch 0 with _rmse value: 1117.1851806640625.\n",
      "Better model found at epoch 1 with _rmse value: 1081.939208984375.\n",
      "Better model found at epoch 2 with _rmse value: 772.0552978515625.\n",
      "Better model found at epoch 3 with _rmse value: 281.12725830078125.\n",
      "Better model found at epoch 4 with _rmse value: 134.2627716064453.\n",
      "Better model found at epoch 5 with _rmse value: 107.89836883544922.\n",
      "Better model found at epoch 6 with _rmse value: 83.02131652832031.\n",
      "Better model found at epoch 7 with _rmse value: 75.27226257324219.\n",
      "Better model found at epoch 8 with _rmse value: 74.72433471679688.\n",
      "Better model found at epoch 9 with _rmse value: 73.20263671875.\n",
      "Better model found at epoch 10 with _rmse value: 61.38405990600586.\n",
      "Better model found at epoch 11 with _rmse value: 57.9231071472168.\n",
      "Better model found at epoch 12 with _rmse value: 57.568031311035156.\n",
      "Better model found at epoch 14 with _rmse value: 52.46697235107422.\n"
     ]
    },
    {
     "data": {
      "text/html": [
       "\n",
       "<style>\n",
       "    /* Turns off some styling */\n",
       "    progress {\n",
       "        /* gets rid of default border in Firefox and Opera. */\n",
       "        border: none;\n",
       "        /* Needs to be in here for Safari polyfill so background images work as expected. */\n",
       "        background-size: auto;\n",
       "    }\n",
       "    .progress-bar-interrupted, .progress-bar-interrupted::-webkit-progress-bar {\n",
       "        background: #F44336;\n",
       "    }\n",
       "</style>\n"
      ],
      "text/plain": [
       "<IPython.core.display.HTML object>"
      ]
     },
     "metadata": {},
     "output_type": "display_data"
    },
    {
     "data": {
      "text/html": [],
      "text/plain": [
       "<IPython.core.display.HTML object>"
      ]
     },
     "metadata": {},
     "output_type": "display_data"
    },
    {
     "name": "stdout",
     "output_type": "stream",
     "text": [
      "RMSE: 52.536293\n",
      "R2: 0.21079113943992134\n",
      "Comp rmse arch: RandomForest, rmse: 48.434262537826186\tDiff(negative = better): 4.1020304919589705\n",
      "********************************************************************************\n",
      "*************************************************\n",
      "*\tended: 2022-04-18 11:44:07.710890\t*\n",
      "*\telapsed time: 0:00:54.438688\t\t*\n",
      "*************************************************\n",
      "*************************************************\n",
      "*\tstarted: 2022-04-18 11:44:07.710890\t*\n",
      "*************************************************\n",
      "NN Model for target ProductionRevActual\n",
      "model_name: nn_ProductionRevActual\n"
     ]
    },
    {
     "data": {
      "text/html": [
       "\n",
       "<style>\n",
       "    /* Turns off some styling */\n",
       "    progress {\n",
       "        /* gets rid of default border in Firefox and Opera. */\n",
       "        border: none;\n",
       "        /* Needs to be in here for Safari polyfill so background images work as expected. */\n",
       "        background-size: auto;\n",
       "    }\n",
       "    .progress-bar-interrupted, .progress-bar-interrupted::-webkit-progress-bar {\n",
       "        background: #F44336;\n",
       "    }\n",
       "</style>\n"
      ],
      "text/plain": [
       "<IPython.core.display.HTML object>"
      ]
     },
     "metadata": {},
     "output_type": "display_data"
    },
    {
     "data": {
      "text/html": [],
      "text/plain": [
       "<IPython.core.display.HTML object>"
      ]
     },
     "metadata": {},
     "output_type": "display_data"
    },
    {
     "name": "stdout",
     "output_type": "stream",
     "text": [
      "Optimal Learning Rate: 0.0014454397605732083\n"
     ]
    },
    {
     "data": {
      "text/html": [
       "\n",
       "<style>\n",
       "    /* Turns off some styling */\n",
       "    progress {\n",
       "        /* gets rid of default border in Firefox and Opera. */\n",
       "        border: none;\n",
       "        /* Needs to be in here for Safari polyfill so background images work as expected. */\n",
       "        background-size: auto;\n",
       "    }\n",
       "    .progress-bar-interrupted, .progress-bar-interrupted::-webkit-progress-bar {\n",
       "        background: #F44336;\n",
       "    }\n",
       "</style>\n"
      ],
      "text/plain": [
       "<IPython.core.display.HTML object>"
      ]
     },
     "metadata": {},
     "output_type": "display_data"
    },
    {
     "data": {
      "text/html": [
       "<table border=\"1\" class=\"dataframe\">\n",
       "  <thead>\n",
       "    <tr style=\"text-align: left;\">\n",
       "      <th>epoch</th>\n",
       "      <th>train_loss</th>\n",
       "      <th>valid_loss</th>\n",
       "      <th>_rmse</th>\n",
       "      <th>time</th>\n",
       "    </tr>\n",
       "  </thead>\n",
       "  <tbody>\n",
       "    <tr>\n",
       "      <td>0</td>\n",
       "      <td>35939815424.000000</td>\n",
       "      <td>44683034624.000000</td>\n",
       "      <td>211382.906250</td>\n",
       "      <td>00:02</td>\n",
       "    </tr>\n",
       "    <tr>\n",
       "      <td>1</td>\n",
       "      <td>30253135872.000000</td>\n",
       "      <td>86003367936.000000</td>\n",
       "      <td>293262.750000</td>\n",
       "      <td>00:02</td>\n",
       "    </tr>\n",
       "    <tr>\n",
       "      <td>2</td>\n",
       "      <td>23231506432.000000</td>\n",
       "      <td>15761309696.000000</td>\n",
       "      <td>125512.218750</td>\n",
       "      <td>00:02</td>\n",
       "    </tr>\n",
       "    <tr>\n",
       "      <td>3</td>\n",
       "      <td>16279371776.000000</td>\n",
       "      <td>5605295616.000000</td>\n",
       "      <td>74699.875000</td>\n",
       "      <td>00:02</td>\n",
       "    </tr>\n",
       "    <tr>\n",
       "      <td>4</td>\n",
       "      <td>11432763392.000000</td>\n",
       "      <td>3153806080.000000</td>\n",
       "      <td>56024.441406</td>\n",
       "      <td>00:02</td>\n",
       "    </tr>\n",
       "    <tr>\n",
       "      <td>5</td>\n",
       "      <td>8121056256.000000</td>\n",
       "      <td>2768594944.000000</td>\n",
       "      <td>52543.808594</td>\n",
       "      <td>00:02</td>\n",
       "    </tr>\n",
       "    <tr>\n",
       "      <td>6</td>\n",
       "      <td>5956926976.000000</td>\n",
       "      <td>1542869376.000000</td>\n",
       "      <td>39068.660156</td>\n",
       "      <td>00:02</td>\n",
       "    </tr>\n",
       "    <tr>\n",
       "      <td>7</td>\n",
       "      <td>4447173120.000000</td>\n",
       "      <td>1103672704.000000</td>\n",
       "      <td>32907.019531</td>\n",
       "      <td>00:02</td>\n",
       "    </tr>\n",
       "    <tr>\n",
       "      <td>8</td>\n",
       "      <td>4182392832.000000</td>\n",
       "      <td>3375083264.000000</td>\n",
       "      <td>57875.789062</td>\n",
       "      <td>00:02</td>\n",
       "    </tr>\n",
       "    <tr>\n",
       "      <td>9</td>\n",
       "      <td>3366326528.000000</td>\n",
       "      <td>1705123072.000000</td>\n",
       "      <td>41066.160156</td>\n",
       "      <td>00:02</td>\n",
       "    </tr>\n",
       "    <tr>\n",
       "      <td>10</td>\n",
       "      <td>2668586496.000000</td>\n",
       "      <td>1488184064.000000</td>\n",
       "      <td>38156.609375</td>\n",
       "      <td>00:02</td>\n",
       "    </tr>\n",
       "    <tr>\n",
       "      <td>11</td>\n",
       "      <td>2124942208.000000</td>\n",
       "      <td>1142155648.000000</td>\n",
       "      <td>33410.144531</td>\n",
       "      <td>00:02</td>\n",
       "    </tr>\n",
       "    <tr>\n",
       "      <td>12</td>\n",
       "      <td>1910793856.000000</td>\n",
       "      <td>1746883328.000000</td>\n",
       "      <td>41587.375000</td>\n",
       "      <td>00:02</td>\n",
       "    </tr>\n",
       "    <tr>\n",
       "      <td>13</td>\n",
       "      <td>1531786496.000000</td>\n",
       "      <td>804630720.000000</td>\n",
       "      <td>28028.855469</td>\n",
       "      <td>00:02</td>\n",
       "    </tr>\n",
       "    <tr>\n",
       "      <td>14</td>\n",
       "      <td>1205371008.000000</td>\n",
       "      <td>768202240.000000</td>\n",
       "      <td>27350.318359</td>\n",
       "      <td>00:02</td>\n",
       "    </tr>\n",
       "    <tr>\n",
       "      <td>15</td>\n",
       "      <td>1019145728.000000</td>\n",
       "      <td>746985920.000000</td>\n",
       "      <td>26943.642578</td>\n",
       "      <td>00:02</td>\n",
       "    </tr>\n",
       "    <tr>\n",
       "      <td>16</td>\n",
       "      <td>868483520.000000</td>\n",
       "      <td>759412096.000000</td>\n",
       "      <td>27180.380859</td>\n",
       "      <td>00:02</td>\n",
       "    </tr>\n",
       "    <tr>\n",
       "      <td>17</td>\n",
       "      <td>781202368.000000</td>\n",
       "      <td>765969408.000000</td>\n",
       "      <td>27303.488281</td>\n",
       "      <td>00:02</td>\n",
       "    </tr>\n",
       "    <tr>\n",
       "      <td>18</td>\n",
       "      <td>718462720.000000</td>\n",
       "      <td>760163392.000000</td>\n",
       "      <td>27194.669922</td>\n",
       "      <td>00:02</td>\n",
       "    </tr>\n",
       "    <tr>\n",
       "      <td>19</td>\n",
       "      <td>691054016.000000</td>\n",
       "      <td>755966720.000000</td>\n",
       "      <td>27115.183594</td>\n",
       "      <td>00:02</td>\n",
       "    </tr>\n",
       "  </tbody>\n",
       "</table>"
      ],
      "text/plain": [
       "<IPython.core.display.HTML object>"
      ]
     },
     "metadata": {},
     "output_type": "display_data"
    },
    {
     "name": "stdout",
     "output_type": "stream",
     "text": [
      "Better model found at epoch 0 with _rmse value: 211382.90625.\n",
      "Better model found at epoch 2 with _rmse value: 125512.21875.\n",
      "Better model found at epoch 3 with _rmse value: 74699.875.\n",
      "Better model found at epoch 4 with _rmse value: 56024.44140625.\n",
      "Better model found at epoch 5 with _rmse value: 52543.80859375.\n",
      "Better model found at epoch 6 with _rmse value: 39068.66015625.\n",
      "Better model found at epoch 7 with _rmse value: 32907.01953125.\n",
      "Better model found at epoch 13 with _rmse value: 28028.85546875.\n",
      "Better model found at epoch 14 with _rmse value: 27350.318359375.\n",
      "Better model found at epoch 15 with _rmse value: 26943.642578125.\n"
     ]
    },
    {
     "data": {
      "text/html": [
       "\n",
       "<style>\n",
       "    /* Turns off some styling */\n",
       "    progress {\n",
       "        /* gets rid of default border in Firefox and Opera. */\n",
       "        border: none;\n",
       "        /* Needs to be in here for Safari polyfill so background images work as expected. */\n",
       "        background-size: auto;\n",
       "    }\n",
       "    .progress-bar-interrupted, .progress-bar-interrupted::-webkit-progress-bar {\n",
       "        background: #F44336;\n",
       "    }\n",
       "</style>\n"
      ],
      "text/plain": [
       "<IPython.core.display.HTML object>"
      ]
     },
     "metadata": {},
     "output_type": "display_data"
    },
    {
     "data": {
      "text/html": [],
      "text/plain": [
       "<IPython.core.display.HTML object>"
      ]
     },
     "metadata": {},
     "output_type": "display_data"
    },
    {
     "name": "stdout",
     "output_type": "stream",
     "text": [
      "RMSE: 27331.043\n",
      "R2: -4.765254699896691\n",
      "Comp rmse arch: RandomForest, rmse: 9363.191750882717\tDiff(negative = better): 17967.851217867283\n",
      "********************************************************************************\n",
      "*************************************************\n",
      "*\tended: 2022-04-18 11:45:00.410737\t*\n",
      "*\telapsed time: 0:00:52.699847\t\t*\n",
      "*************************************************\n",
      "*************************************************\n",
      "*\tstarted: 2022-04-18 11:45:00.410737\t*\n",
      "*************************************************\n",
      "NN Model for target Cost\n",
      "model_name: nn_Cost\n"
     ]
    },
    {
     "data": {
      "text/html": [
       "\n",
       "<style>\n",
       "    /* Turns off some styling */\n",
       "    progress {\n",
       "        /* gets rid of default border in Firefox and Opera. */\n",
       "        border: none;\n",
       "        /* Needs to be in here for Safari polyfill so background images work as expected. */\n",
       "        background-size: auto;\n",
       "    }\n",
       "    .progress-bar-interrupted, .progress-bar-interrupted::-webkit-progress-bar {\n",
       "        background: #F44336;\n",
       "    }\n",
       "</style>\n"
      ],
      "text/plain": [
       "<IPython.core.display.HTML object>"
      ]
     },
     "metadata": {},
     "output_type": "display_data"
    },
    {
     "data": {
      "text/html": [],
      "text/plain": [
       "<IPython.core.display.HTML object>"
      ]
     },
     "metadata": {},
     "output_type": "display_data"
    },
    {
     "name": "stdout",
     "output_type": "stream",
     "text": [
      "Optimal Learning Rate: 0.0020892962347716093\n"
     ]
    },
    {
     "data": {
      "text/html": [
       "\n",
       "<style>\n",
       "    /* Turns off some styling */\n",
       "    progress {\n",
       "        /* gets rid of default border in Firefox and Opera. */\n",
       "        border: none;\n",
       "        /* Needs to be in here for Safari polyfill so background images work as expected. */\n",
       "        background-size: auto;\n",
       "    }\n",
       "    .progress-bar-interrupted, .progress-bar-interrupted::-webkit-progress-bar {\n",
       "        background: #F44336;\n",
       "    }\n",
       "</style>\n"
      ],
      "text/plain": [
       "<IPython.core.display.HTML object>"
      ]
     },
     "metadata": {},
     "output_type": "display_data"
    },
    {
     "data": {
      "text/html": [
       "<table border=\"1\" class=\"dataframe\">\n",
       "  <thead>\n",
       "    <tr style=\"text-align: left;\">\n",
       "      <th>epoch</th>\n",
       "      <th>train_loss</th>\n",
       "      <th>valid_loss</th>\n",
       "      <th>_rmse</th>\n",
       "      <th>time</th>\n",
       "    </tr>\n",
       "  </thead>\n",
       "  <tbody>\n",
       "    <tr>\n",
       "      <td>0</td>\n",
       "      <td>1918359680.000000</td>\n",
       "      <td>2561477632.000000</td>\n",
       "      <td>50610.820312</td>\n",
       "      <td>00:02</td>\n",
       "    </tr>\n",
       "    <tr>\n",
       "      <td>1</td>\n",
       "      <td>1567882112.000000</td>\n",
       "      <td>4796132864.000000</td>\n",
       "      <td>69253.921875</td>\n",
       "      <td>00:02</td>\n",
       "    </tr>\n",
       "    <tr>\n",
       "      <td>2</td>\n",
       "      <td>1130990080.000000</td>\n",
       "      <td>692510272.000000</td>\n",
       "      <td>26300.175781</td>\n",
       "      <td>00:02</td>\n",
       "    </tr>\n",
       "    <tr>\n",
       "      <td>3</td>\n",
       "      <td>752951808.000000</td>\n",
       "      <td>276619456.000000</td>\n",
       "      <td>16596.132812</td>\n",
       "      <td>00:02</td>\n",
       "    </tr>\n",
       "    <tr>\n",
       "      <td>4</td>\n",
       "      <td>514266144.000000</td>\n",
       "      <td>115434600.000000</td>\n",
       "      <td>10690.451172</td>\n",
       "      <td>00:02</td>\n",
       "    </tr>\n",
       "    <tr>\n",
       "      <td>5</td>\n",
       "      <td>350427872.000000</td>\n",
       "      <td>49238232.000000</td>\n",
       "      <td>6933.846680</td>\n",
       "      <td>00:02</td>\n",
       "    </tr>\n",
       "    <tr>\n",
       "      <td>6</td>\n",
       "      <td>237338240.000000</td>\n",
       "      <td>38966004.000000</td>\n",
       "      <td>6148.305176</td>\n",
       "      <td>00:02</td>\n",
       "    </tr>\n",
       "    <tr>\n",
       "      <td>7</td>\n",
       "      <td>165428096.000000</td>\n",
       "      <td>28624790.000000</td>\n",
       "      <td>5242.660645</td>\n",
       "      <td>00:02</td>\n",
       "    </tr>\n",
       "    <tr>\n",
       "      <td>8</td>\n",
       "      <td>118824192.000000</td>\n",
       "      <td>83517352.000000</td>\n",
       "      <td>9118.324219</td>\n",
       "      <td>00:02</td>\n",
       "    </tr>\n",
       "    <tr>\n",
       "      <td>9</td>\n",
       "      <td>92022984.000000</td>\n",
       "      <td>41854884.000000</td>\n",
       "      <td>6380.255859</td>\n",
       "      <td>00:02</td>\n",
       "    </tr>\n",
       "    <tr>\n",
       "      <td>10</td>\n",
       "      <td>73987544.000000</td>\n",
       "      <td>30078516.000000</td>\n",
       "      <td>5322.166992</td>\n",
       "      <td>00:02</td>\n",
       "    </tr>\n",
       "    <tr>\n",
       "      <td>11</td>\n",
       "      <td>61958396.000000</td>\n",
       "      <td>25405590.000000</td>\n",
       "      <td>4887.386230</td>\n",
       "      <td>00:02</td>\n",
       "    </tr>\n",
       "    <tr>\n",
       "      <td>12</td>\n",
       "      <td>50351312.000000</td>\n",
       "      <td>25941356.000000</td>\n",
       "      <td>4927.198242</td>\n",
       "      <td>00:02</td>\n",
       "    </tr>\n",
       "    <tr>\n",
       "      <td>13</td>\n",
       "      <td>49610428.000000</td>\n",
       "      <td>27597634.000000</td>\n",
       "      <td>5089.973145</td>\n",
       "      <td>00:02</td>\n",
       "    </tr>\n",
       "    <tr>\n",
       "      <td>14</td>\n",
       "      <td>42858324.000000</td>\n",
       "      <td>19924504.000000</td>\n",
       "      <td>4220.098145</td>\n",
       "      <td>00:02</td>\n",
       "    </tr>\n",
       "    <tr>\n",
       "      <td>15</td>\n",
       "      <td>38419132.000000</td>\n",
       "      <td>21099346.000000</td>\n",
       "      <td>4421.568848</td>\n",
       "      <td>00:02</td>\n",
       "    </tr>\n",
       "    <tr>\n",
       "      <td>16</td>\n",
       "      <td>35656888.000000</td>\n",
       "      <td>18188412.000000</td>\n",
       "      <td>4119.845215</td>\n",
       "      <td>00:02</td>\n",
       "    </tr>\n",
       "    <tr>\n",
       "      <td>17</td>\n",
       "      <td>30986468.000000</td>\n",
       "      <td>16210314.000000</td>\n",
       "      <td>3850.892334</td>\n",
       "      <td>00:02</td>\n",
       "    </tr>\n",
       "    <tr>\n",
       "      <td>18</td>\n",
       "      <td>28297728.000000</td>\n",
       "      <td>16015099.000000</td>\n",
       "      <td>3837.522461</td>\n",
       "      <td>00:02</td>\n",
       "    </tr>\n",
       "    <tr>\n",
       "      <td>19</td>\n",
       "      <td>26747368.000000</td>\n",
       "      <td>16659552.000000</td>\n",
       "      <td>3903.181152</td>\n",
       "      <td>00:02</td>\n",
       "    </tr>\n",
       "  </tbody>\n",
       "</table>"
      ],
      "text/plain": [
       "<IPython.core.display.HTML object>"
      ]
     },
     "metadata": {},
     "output_type": "display_data"
    },
    {
     "name": "stdout",
     "output_type": "stream",
     "text": [
      "Better model found at epoch 0 with _rmse value: 50610.8203125.\n",
      "Better model found at epoch 2 with _rmse value: 26300.17578125.\n",
      "Better model found at epoch 3 with _rmse value: 16596.1328125.\n",
      "Better model found at epoch 4 with _rmse value: 10690.451171875.\n",
      "Better model found at epoch 5 with _rmse value: 6933.8466796875.\n",
      "Better model found at epoch 6 with _rmse value: 6148.30517578125.\n",
      "Better model found at epoch 7 with _rmse value: 5242.66064453125.\n",
      "Better model found at epoch 11 with _rmse value: 4887.38623046875.\n",
      "Better model found at epoch 14 with _rmse value: 4220.09814453125.\n",
      "Better model found at epoch 16 with _rmse value: 4119.84521484375.\n",
      "Better model found at epoch 17 with _rmse value: 3850.892333984375.\n",
      "Better model found at epoch 18 with _rmse value: 3837.5224609375.\n"
     ]
    },
    {
     "data": {
      "text/html": [
       "\n",
       "<style>\n",
       "    /* Turns off some styling */\n",
       "    progress {\n",
       "        /* gets rid of default border in Firefox and Opera. */\n",
       "        border: none;\n",
       "        /* Needs to be in here for Safari polyfill so background images work as expected. */\n",
       "        background-size: auto;\n",
       "    }\n",
       "    .progress-bar-interrupted, .progress-bar-interrupted::-webkit-progress-bar {\n",
       "        background: #F44336;\n",
       "    }\n",
       "</style>\n"
      ],
      "text/plain": [
       "<IPython.core.display.HTML object>"
      ]
     },
     "metadata": {},
     "output_type": "display_data"
    },
    {
     "data": {
      "text/html": [],
      "text/plain": [
       "<IPython.core.display.HTML object>"
      ]
     },
     "metadata": {},
     "output_type": "display_data"
    },
    {
     "name": "stdout",
     "output_type": "stream",
     "text": [
      "RMSE: 4001.8872\n",
      "R2: -1.4952745312753377\n",
      "Comp rmse arch: RandomForest, rmse: 2085.0549581288415\tDiff(negative = better): 1916.8322489024085\n",
      "********************************************************************************\n",
      "*************************************************\n",
      "*\tended: 2022-04-18 11:45:52.625247\t*\n",
      "*\telapsed time: 0:00:52.214510\t\t*\n",
      "*************************************************\n",
      "*************************************************\n",
      "*\tstarted: 2022-04-18 11:45:52.625247\t*\n",
      "*************************************************\n",
      "NN Model for target NumAssociatesOnJob\n",
      "model_name: nn_NumAssociatesOnJob\n"
     ]
    },
    {
     "data": {
      "text/html": [
       "\n",
       "<style>\n",
       "    /* Turns off some styling */\n",
       "    progress {\n",
       "        /* gets rid of default border in Firefox and Opera. */\n",
       "        border: none;\n",
       "        /* Needs to be in here for Safari polyfill so background images work as expected. */\n",
       "        background-size: auto;\n",
       "    }\n",
       "    .progress-bar-interrupted, .progress-bar-interrupted::-webkit-progress-bar {\n",
       "        background: #F44336;\n",
       "    }\n",
       "</style>\n"
      ],
      "text/plain": [
       "<IPython.core.display.HTML object>"
      ]
     },
     "metadata": {},
     "output_type": "display_data"
    },
    {
     "data": {
      "text/html": [],
      "text/plain": [
       "<IPython.core.display.HTML object>"
      ]
     },
     "metadata": {},
     "output_type": "display_data"
    },
    {
     "name": "stdout",
     "output_type": "stream",
     "text": [
      "Optimal Learning Rate: 0.002511886414140463\n"
     ]
    },
    {
     "data": {
      "text/html": [
       "\n",
       "<style>\n",
       "    /* Turns off some styling */\n",
       "    progress {\n",
       "        /* gets rid of default border in Firefox and Opera. */\n",
       "        border: none;\n",
       "        /* Needs to be in here for Safari polyfill so background images work as expected. */\n",
       "        background-size: auto;\n",
       "    }\n",
       "    .progress-bar-interrupted, .progress-bar-interrupted::-webkit-progress-bar {\n",
       "        background: #F44336;\n",
       "    }\n",
       "</style>\n"
      ],
      "text/plain": [
       "<IPython.core.display.HTML object>"
      ]
     },
     "metadata": {},
     "output_type": "display_data"
    },
    {
     "data": {
      "text/html": [
       "<table border=\"1\" class=\"dataframe\">\n",
       "  <thead>\n",
       "    <tr style=\"text-align: left;\">\n",
       "      <th>epoch</th>\n",
       "      <th>train_loss</th>\n",
       "      <th>valid_loss</th>\n",
       "      <th>_rmse</th>\n",
       "      <th>time</th>\n",
       "    </tr>\n",
       "  </thead>\n",
       "  <tbody>\n",
       "    <tr>\n",
       "      <td>0</td>\n",
       "      <td>302.545593</td>\n",
       "      <td>459.238892</td>\n",
       "      <td>21.429647</td>\n",
       "      <td>00:02</td>\n",
       "    </tr>\n",
       "    <tr>\n",
       "      <td>1</td>\n",
       "      <td>238.511139</td>\n",
       "      <td>812.970093</td>\n",
       "      <td>28.512428</td>\n",
       "      <td>00:02</td>\n",
       "    </tr>\n",
       "    <tr>\n",
       "      <td>2</td>\n",
       "      <td>166.215103</td>\n",
       "      <td>113.671997</td>\n",
       "      <td>10.655829</td>\n",
       "      <td>00:02</td>\n",
       "    </tr>\n",
       "    <tr>\n",
       "      <td>3</td>\n",
       "      <td>110.510941</td>\n",
       "      <td>28.095692</td>\n",
       "      <td>5.276334</td>\n",
       "      <td>00:02</td>\n",
       "    </tr>\n",
       "    <tr>\n",
       "      <td>4</td>\n",
       "      <td>73.563942</td>\n",
       "      <td>15.696022</td>\n",
       "      <td>3.948102</td>\n",
       "      <td>00:02</td>\n",
       "    </tr>\n",
       "    <tr>\n",
       "      <td>5</td>\n",
       "      <td>50.159565</td>\n",
       "      <td>11.997701</td>\n",
       "      <td>3.454398</td>\n",
       "      <td>00:02</td>\n",
       "    </tr>\n",
       "    <tr>\n",
       "      <td>6</td>\n",
       "      <td>34.231567</td>\n",
       "      <td>9.988864</td>\n",
       "      <td>3.144762</td>\n",
       "      <td>00:02</td>\n",
       "    </tr>\n",
       "    <tr>\n",
       "      <td>7</td>\n",
       "      <td>29.294439</td>\n",
       "      <td>25.845818</td>\n",
       "      <td>5.078086</td>\n",
       "      <td>00:02</td>\n",
       "    </tr>\n",
       "    <tr>\n",
       "      <td>8</td>\n",
       "      <td>22.892939</td>\n",
       "      <td>10.742032</td>\n",
       "      <td>3.260123</td>\n",
       "      <td>00:02</td>\n",
       "    </tr>\n",
       "    <tr>\n",
       "      <td>9</td>\n",
       "      <td>17.755327</td>\n",
       "      <td>9.144103</td>\n",
       "      <td>3.006806</td>\n",
       "      <td>00:02</td>\n",
       "    </tr>\n",
       "    <tr>\n",
       "      <td>10</td>\n",
       "      <td>13.375825</td>\n",
       "      <td>7.550151</td>\n",
       "      <td>2.733848</td>\n",
       "      <td>00:02</td>\n",
       "    </tr>\n",
       "    <tr>\n",
       "      <td>11</td>\n",
       "      <td>10.723514</td>\n",
       "      <td>7.588704</td>\n",
       "      <td>2.745183</td>\n",
       "      <td>00:02</td>\n",
       "    </tr>\n",
       "    <tr>\n",
       "      <td>12</td>\n",
       "      <td>8.830961</td>\n",
       "      <td>7.207933</td>\n",
       "      <td>2.675894</td>\n",
       "      <td>00:02</td>\n",
       "    </tr>\n",
       "    <tr>\n",
       "      <td>13</td>\n",
       "      <td>7.357072</td>\n",
       "      <td>6.852209</td>\n",
       "      <td>2.608741</td>\n",
       "      <td>00:02</td>\n",
       "    </tr>\n",
       "    <tr>\n",
       "      <td>14</td>\n",
       "      <td>6.349941</td>\n",
       "      <td>6.837414</td>\n",
       "      <td>2.605710</td>\n",
       "      <td>00:02</td>\n",
       "    </tr>\n",
       "    <tr>\n",
       "      <td>15</td>\n",
       "      <td>5.482224</td>\n",
       "      <td>6.866071</td>\n",
       "      <td>2.610211</td>\n",
       "      <td>00:02</td>\n",
       "    </tr>\n",
       "    <tr>\n",
       "      <td>16</td>\n",
       "      <td>4.959068</td>\n",
       "      <td>6.815766</td>\n",
       "      <td>2.600483</td>\n",
       "      <td>00:02</td>\n",
       "    </tr>\n",
       "    <tr>\n",
       "      <td>17</td>\n",
       "      <td>4.585211</td>\n",
       "      <td>6.940720</td>\n",
       "      <td>2.624895</td>\n",
       "      <td>00:02</td>\n",
       "    </tr>\n",
       "    <tr>\n",
       "      <td>18</td>\n",
       "      <td>4.461421</td>\n",
       "      <td>6.831778</td>\n",
       "      <td>2.603059</td>\n",
       "      <td>00:02</td>\n",
       "    </tr>\n",
       "    <tr>\n",
       "      <td>19</td>\n",
       "      <td>4.266835</td>\n",
       "      <td>6.729387</td>\n",
       "      <td>2.583026</td>\n",
       "      <td>00:02</td>\n",
       "    </tr>\n",
       "  </tbody>\n",
       "</table>"
      ],
      "text/plain": [
       "<IPython.core.display.HTML object>"
      ]
     },
     "metadata": {},
     "output_type": "display_data"
    },
    {
     "name": "stdout",
     "output_type": "stream",
     "text": [
      "Better model found at epoch 0 with _rmse value: 21.42964744567871.\n",
      "Better model found at epoch 2 with _rmse value: 10.655829429626465.\n",
      "Better model found at epoch 3 with _rmse value: 5.276334285736084.\n",
      "Better model found at epoch 4 with _rmse value: 3.94810152053833.\n",
      "Better model found at epoch 5 with _rmse value: 3.454397678375244.\n",
      "Better model found at epoch 6 with _rmse value: 3.144761800765991.\n",
      "Better model found at epoch 9 with _rmse value: 3.006805896759033.\n",
      "Better model found at epoch 10 with _rmse value: 2.7338476181030273.\n",
      "Better model found at epoch 12 with _rmse value: 2.675893783569336.\n",
      "Better model found at epoch 13 with _rmse value: 2.608741044998169.\n",
      "Better model found at epoch 14 with _rmse value: 2.605710029602051.\n",
      "Better model found at epoch 16 with _rmse value: 2.600482702255249.\n",
      "Better model found at epoch 19 with _rmse value: 2.58302640914917.\n"
     ]
    },
    {
     "data": {
      "text/html": [
       "\n",
       "<style>\n",
       "    /* Turns off some styling */\n",
       "    progress {\n",
       "        /* gets rid of default border in Firefox and Opera. */\n",
       "        border: none;\n",
       "        /* Needs to be in here for Safari polyfill so background images work as expected. */\n",
       "        background-size: auto;\n",
       "    }\n",
       "    .progress-bar-interrupted, .progress-bar-interrupted::-webkit-progress-bar {\n",
       "        background: #F44336;\n",
       "    }\n",
       "</style>\n"
      ],
      "text/plain": [
       "<IPython.core.display.HTML object>"
      ]
     },
     "metadata": {},
     "output_type": "display_data"
    },
    {
     "data": {
      "text/html": [],
      "text/plain": [
       "<IPython.core.display.HTML object>"
      ]
     },
     "metadata": {},
     "output_type": "display_data"
    },
    {
     "name": "stdout",
     "output_type": "stream",
     "text": [
      "RMSE: 2.5941062\n",
      "R2: 0.21444577604423232\n",
      "Comp rmse arch: RandomForest, rmse: 2.170539793423609\tDiff(negative = better): 0.4235664039335689\n",
      "********************************************************************************\n",
      "*************************************************\n",
      "*\tended: 2022-04-18 11:46:46.274190\t*\n",
      "*\telapsed time: 0:00:53.648943\t\t*\n",
      "*************************************************\n"
     ]
    },
    {
     "data": {
      "image/png": "[encoded data removed]",
      "text/plain": [
       "<Figure size 432x288 with 1 Axes>"
      ]
     },
     "metadata": {
      "needs_background": "light"
     },
     "output_type": "display_data"
    },
    {
     "data": {
      "image/png": "[encoded data removed]",
      "text/plain": [
       "<Figure size 432x288 with 1 Axes>"
      ]
     },
     "metadata": {
      "needs_background": "light"
     },
     "output_type": "display_data"
    },
    {
     "data": {
      "image/png": "[encoded data removed]",
      "text/plain": [
       "<Figure size 432x288 with 1 Axes>"
      ]
     },
     "metadata": {
      "needs_background": "light"
     },
     "output_type": "display_data"
    },
    {
     "data": {
      "image/png": "[encoded data removed]",
      "text/plain": [
       "<Figure size 432x288 with 1 Axes>"
      ]
     },
     "metadata": {
      "needs_background": "light"
     },
     "output_type": "display_data"
    }
   ],
   "source": [
    "m_names = [] # names of the model(s)\n",
    "dls_from_nn = [] # dataloaders object\n",
    "learners = [] # the learner object\n",
    "tblr_pandas = [] # tabular pandas object\n",
    "\n",
    "to_cont = []\n",
    "to_cat = ['OfficeZip']\n",
    "print('****************NEURAL NET MODELS****************')\n",
    "for t in targets:\n",
    "    start = dt.datetime.now()\n",
    "    print('*'*49)\n",
    "    print(f'*\\tstarted: {start}\\t*')\n",
    "    print('*'*49)\n",
    "    # split our var types\n",
    "    cont_nn,cat_nn = cont_cat_split(df[features], max_card=9000, dep_var=t)\n",
    "    # swap categories to continous if we have some : manual overrids\n",
    "    if len(to_cont) > 0:\n",
    "        for c in to_cont:\n",
    "            cont_nn.append(c)\n",
    "            cat_nn.remove(c)\n",
    "    # swap contious to categoricals if we have some : manual overrides\n",
    "    if len(to_cat) > 0:\n",
    "        for c in to_cat:\n",
    "            cat_nn.append(c)\n",
    "            cont_nn.remove(c)\n",
    "    # run a model\n",
    "    # first, if we are looking at NumAssociatesOnJob as the target (idx 3), we want to convert to different precision\n",
    "    #if t = 'NumAssociatesOnJob'   \n",
    "    model_name, dls, arch, tblr_pd = nn_wrapper(df_nn=df, cont_nn=cont_nn, cat_nn=cat_nn, dep_var=t ,nn_layers= [500,250], comp_rmse=filtered_rf_rmses[t], comp_rmse_arch='RandomForest')\n",
    "    # save outputs\n",
    "    m_names.append(model_name)\n",
    "    dls_from_nn.append(dls)\n",
    "    learners.append(arch)\n",
    "    tblr_pandas.append(tblr_pd)\n",
    "    \n",
    "    print('*'*49)\n",
    "    end = dt.datetime.now()\n",
    "    print(f'*\\tended: {end}\\t*')\n",
    "    print(f'*\\telapsed time: {(end-start)}\\t\\t*')\n",
    "    print('*'*49)"
   ]
  },
  {
   "cell_type": "code",
   "execution_count": 32,
   "id": "343d427f-96e5-4072-b3fa-df1ac934746e",
   "metadata": {},
   "outputs": [
    {
     "data": {
      "text/html": [
       "\n",
       "<style>\n",
       "    /* Turns off some styling */\n",
       "    progress {\n",
       "        /* gets rid of default border in Firefox and Opera. */\n",
       "        border: none;\n",
       "        /* Needs to be in here for Safari polyfill so background images work as expected. */\n",
       "        background-size: auto;\n",
       "    }\n",
       "    .progress-bar-interrupted, .progress-bar-interrupted::-webkit-progress-bar {\n",
       "        background: #F44336;\n",
       "    }\n",
       "</style>\n"
      ],
      "text/plain": [
       "<IPython.core.display.HTML object>"
      ]
     },
     "metadata": {},
     "output_type": "display_data"
    },
    {
     "data": {
      "text/html": [],
      "text/plain": [
       "<IPython.core.display.HTML object>"
      ]
     },
     "metadata": {},
     "output_type": "display_data"
    },
    {
     "name": "stdout",
     "output_type": "stream",
     "text": [
      "RMSE for model with target ChargeHours: 52.53629684448242\n"
     ]
    },
    {
     "data": {
      "text/html": [
       "\n",
       "<style>\n",
       "    /* Turns off some styling */\n",
       "    progress {\n",
       "        /* gets rid of default border in Firefox and Opera. */\n",
       "        border: none;\n",
       "        /* Needs to be in here for Safari polyfill so background images work as expected. */\n",
       "        background-size: auto;\n",
       "    }\n",
       "    .progress-bar-interrupted, .progress-bar-interrupted::-webkit-progress-bar {\n",
       "        background: #F44336;\n",
       "    }\n",
       "</style>\n"
      ],
      "text/plain": [
       "<IPython.core.display.HTML object>"
      ]
     },
     "metadata": {},
     "output_type": "display_data"
    },
    {
     "data": {
      "text/html": [],
      "text/plain": [
       "<IPython.core.display.HTML object>"
      ]
     },
     "metadata": {},
     "output_type": "display_data"
    },
    {
     "name": "stdout",
     "output_type": "stream",
     "text": [
      "RMSE for model with target ProductionRevActual: 27331.04296875\n"
     ]
    },
    {
     "data": {
      "text/html": [
       "\n",
       "<style>\n",
       "    /* Turns off some styling */\n",
       "    progress {\n",
       "        /* gets rid of default border in Firefox and Opera. */\n",
       "        border: none;\n",
       "        /* Needs to be in here for Safari polyfill so background images work as expected. */\n",
       "        background-size: auto;\n",
       "    }\n",
       "    .progress-bar-interrupted, .progress-bar-interrupted::-webkit-progress-bar {\n",
       "        background: #F44336;\n",
       "    }\n",
       "</style>\n"
      ],
      "text/plain": [
       "<IPython.core.display.HTML object>"
      ]
     },
     "metadata": {},
     "output_type": "display_data"
    },
    {
     "data": {
      "text/html": [],
      "text/plain": [
       "<IPython.core.display.HTML object>"
      ]
     },
     "metadata": {},
     "output_type": "display_data"
    },
    {
     "name": "stdout",
     "output_type": "stream",
     "text": [
      "RMSE for model with target Cost: 4001.88720703125\n"
     ]
    },
    {
     "data": {
      "text/html": [
       "\n",
       "<style>\n",
       "    /* Turns off some styling */\n",
       "    progress {\n",
       "        /* gets rid of default border in Firefox and Opera. */\n",
       "        border: none;\n",
       "        /* Needs to be in here for Safari polyfill so background images work as expected. */\n",
       "        background-size: auto;\n",
       "    }\n",
       "    .progress-bar-interrupted, .progress-bar-interrupted::-webkit-progress-bar {\n",
       "        background: #F44336;\n",
       "    }\n",
       "</style>\n"
      ],
      "text/plain": [
       "<IPython.core.display.HTML object>"
      ]
     },
     "metadata": {},
     "output_type": "display_data"
    },
    {
     "data": {
      "text/html": [],
      "text/plain": [
       "<IPython.core.display.HTML object>"
      ]
     },
     "metadata": {},
     "output_type": "display_data"
    },
    {
     "name": "stdout",
     "output_type": "stream",
     "text": [
      "RMSE for model with target NumAssociatesOnJob: 2.5941061973571777\n"
     ]
    }
   ],
   "source": [
    "best_nn_model_rmses = []\n",
    "for idx,lrn in enumerate(learners):\n",
    "    learn = lrn.load(m_names[idx]+'_bestM')\n",
    "    preds,targs = learn.get_preds()\n",
    "    nn_preds=  preds.squeeze(1)\n",
    "    best_nn_model_rmses.append(_rmse(preds, targs))\n",
    "    print(f'RMSE for model with target {targets[idx]}: {_rmse(preds, targs)}')"
   ]
  },
  {
   "cell_type": "code",
   "execution_count": 33,
   "id": "ce31531b-6557-4e1b-a789-4ca6e8d9c51f",
   "metadata": {},
   "outputs": [
    {
     "name": "stdout",
     "output_type": "stream",
     "text": [
      "RF Rmses for comparison:\n",
      "{'ChargeHours': 48.434262537826186, 'ProductionRevActual': 9363.191750882717, 'Cost': 2085.0549581288415, 'NumAssociatesOnJob': 2.170539793423609}\n"
     ]
    }
   ],
   "source": [
    "print(f'RF Rmses for comparison:\\n{filtered_rf_rmses}')"
   ]
  },
  {
   "cell_type": "markdown",
   "id": "fa940934-4f0f-4d56-b5be-f2c13c503e65",
   "metadata": {},
   "source": [
    "<font color=\"purple\"> As we can see there is no measured improvement with a basic neural net, over the RF (or even XGB) approaches. This suggests that maybe we can gain some information leveraging embeddings, but the neural net probably isn't yielding the results we want unless we go deeper and or train more parameters. That said, based on the loss it seems like we might be at risk of overfitting if we go that route.</font>"
   ]
  },
  {
   "cell_type": "markdown",
   "id": "c0795bf3-3aa9-4922-8305-c9501cb697df",
   "metadata": {},
   "source": [
    "---\n",
    "\n",
    "\n",
    "# Random Forest, XGB With Embeddings from Neural Net\n",
    "\n",
    "we will now extract, for each of our models, the embeddings for the categorical variables to use in place of the features themselves. As shown by Guo (2016), entinty embeddings can provide more information than one-hot encoding because they capture the relationship between categorical levels by borrowing techniques from NLP methodologies\n",
    "\n",
    "we found a helper function to extract the embeddings here <a href=\"https://towardsdatascience.com/using-entity-embeddings-to-improve-the-performance-of-machine-learning-models-7bf35e9a7822#:~:text=The%20general%20steps%20to%20using%20embeddings%20learned%20by,Extract%20the%20embeddings%20from%20the%20trained%20neural%20network\">Jia Qing's blog post on using embeddings at Towards Data Science (Medium)</a>"
   ]
  },
  {
   "cell_type": "code",
   "execution_count": 34,
   "id": "a630cf04-030a-4f7b-a7a0-a6ade7ec22d2",
   "metadata": {},
   "outputs": [],
   "source": [
    "# source for this helper func: https://towardsdatascience.com/using-entity-embeddings-to-improve-the-performance-of-machine-learning-models-7bf35e9a7822#:~:text=The%20general%20steps%20to%20using%20embeddings%20learned%20by,Extract%20the%20embeddings%20from%20the%20trained%20neural%20network.\n",
    "\n",
    "def embedings_as_features(learner, df):\n",
    "    df =df.copy()\n",
    "    for idx, feature in enumerate(learner.dls.cat_names):\n",
    "        emb = learner.model.embeds[idx]\n",
    "        new_feature = pd.DataFrame(emb(tensor(df[feature],dtype=torch.int64))\n",
    "                                   ,index=df.index\n",
    "                                   ,columns=[f'{feature}_{j}' for j in range(emb.embedding_dim)])\n",
    "        df.drop(columns=feature, inplace=True)\n",
    "        df = df.join(new_feature)\n",
    "    return df"
   ]
  },
  {
   "cell_type": "code",
   "execution_count": 35,
   "id": "002b37af-7800-4eb8-8142-cf21dcb002b3",
   "metadata": {},
   "outputs": [
    {
     "name": "stdout",
     "output_type": "stream",
     "text": [
      "****************RF AND XGB EMBEDDING MODELS****************\n",
      "*************************************************\n",
      "*\tstarted: 2022-04-18 11:46:48.110610\t*\n",
      "*************************************************\n",
      "XGB and RF models with target ChargeHours using embeddings from model nn_ChargeHours\n",
      "Original training data shape (rows,cols): (28628, 20)\n",
      "Data shape with Embeddings (rows,cols): (28628, 779)\n",
      "Number of new features (excl 1 for 1 replacements): 759\n",
      "----------------------------------------\n",
      "RF Model Baseline:\n",
      "OOB Score: 0.30693079615923924\n",
      "----------------------------------------\n",
      "XGB Model Baseline:\n",
      "----------------------------------------\n",
      "Emb RF Model RMSE: 50.88018263908794\n",
      "Emb XGB Model RMSE: 54.39141845703125\n",
      "Orignal RF Model RMSE: 48.434262537826186\n",
      "*************************************************\n",
      "*\tended: 2022-04-18 11:52:28.573838\t*\n",
      "*\telapsed time: 0:05:40.463228\t\t*\n",
      "*************************************************\n",
      "********************************************************************************\n",
      "*************************************************\n",
      "*\tstarted: 2022-04-18 11:52:28.573838\t*\n",
      "*************************************************\n",
      "XGB and RF models with target ProductionRevActual using embeddings from model nn_ProductionRevActual\n",
      "Original training data shape (rows,cols): (28628, 20)\n",
      "Data shape with Embeddings (rows,cols): (28628, 779)\n",
      "Number of new features (excl 1 for 1 replacements): 759\n",
      "----------------------------------------\n",
      "RF Model Baseline:\n",
      "OOB Score: 0.2845915784356826\n",
      "----------------------------------------\n",
      "XGB Model Baseline:\n",
      "----------------------------------------\n",
      "Emb RF Model RMSE: 10287.799170817136\n",
      "Emb XGB Model RMSE: 10744.5693359375\n",
      "Orignal RF Model RMSE: 9363.191750882717\n",
      "*************************************************\n",
      "*\tended: 2022-04-18 11:57:10.327961\t*\n",
      "*\telapsed time: 0:04:41.754123\t\t*\n",
      "*************************************************\n",
      "********************************************************************************\n",
      "*************************************************\n",
      "*\tstarted: 2022-04-18 11:57:10.327961\t*\n",
      "*************************************************\n",
      "XGB and RF models with target Cost using embeddings from model nn_Cost\n",
      "Original training data shape (rows,cols): (28628, 20)\n",
      "Data shape with Embeddings (rows,cols): (28628, 779)\n",
      "Number of new features (excl 1 for 1 replacements): 759\n",
      "----------------------------------------\n",
      "RF Model Baseline:\n",
      "OOB Score: 0.31204481515902494\n",
      "----------------------------------------\n",
      "XGB Model Baseline:\n",
      "----------------------------------------\n",
      "Emb RF Model RMSE: 2273.841911605264\n",
      "Emb XGB Model RMSE: 2412.37548828125\n",
      "Orignal RF Model RMSE: 2085.0549581288415\n",
      "*************************************************\n",
      "*\tended: 2022-04-18 12:02:18.730906\t*\n",
      "*\telapsed time: 0:05:08.402945\t\t*\n",
      "*************************************************\n",
      "********************************************************************************\n",
      "*************************************************\n",
      "*\tstarted: 2022-04-18 12:02:18.730906\t*\n",
      "*************************************************\n",
      "XGB and RF models with target NumAssociatesOnJob using embeddings from model nn_NumAssociatesOnJob\n",
      "Original training data shape (rows,cols): (28628, 20)\n",
      "Data shape with Embeddings (rows,cols): (28628, 779)\n",
      "Number of new features (excl 1 for 1 replacements): 759\n",
      "----------------------------------------\n",
      "RF Model Baseline:\n",
      "OOB Score: 0.5572725635347736\n",
      "----------------------------------------\n",
      "XGB Model Baseline:\n",
      "----------------------------------------\n",
      "Emb RF Model RMSE: 2.3459965396020057\n",
      "Emb XGB Model RMSE: 2.398141860961914\n",
      "Orignal RF Model RMSE: 2.170539793423609\n",
      "*************************************************\n",
      "*\tended: 2022-04-18 12:05:07.845904\t*\n",
      "*\telapsed time: 0:02:49.114998\t\t*\n",
      "*************************************************\n",
      "********************************************************************************\n"
     ]
    }
   ],
   "source": [
    "# train a model for each of our targets, using the embeddings from each of our neural nets (for the targets)\n",
    "import xgboost as xgb\n",
    "np.random.seed(123)\n",
    "#m_names\n",
    "#learners\n",
    "#tblr_pandas\n",
    "#dls_from_nn\n",
    "\n",
    "emb_model_rf = []\n",
    "emb_model_xgb = []\n",
    "\n",
    "emb_rmse_rf = {}\n",
    "emb_rmse_xgb = {}\n",
    "\n",
    "emb_nf = []\n",
    "\n",
    "print('****************RF AND XGB EMBEDDING MODELS****************')\n",
    "for idx,lrn in enumerate(learners):\n",
    "    start = dt.datetime.now()\n",
    "    print('*'*49)\n",
    "    print(f'*\\tstarted: {start}\\t*')\n",
    "    print('*'*49)\n",
    "    print(f'XGB and RF models with target {targets[idx]} using embeddings from model {m_names[idx]}')\n",
    "    # ----------------------------------------------------------------------------------------------------------\n",
    "    # get best learner\n",
    "    learn = lrn.load(m_names[idx]+'_bestM')\n",
    "    # get our dataloaders object\n",
    "    dls = dls_from_nn[idx]\n",
    "    # to train another model with embeddings we need the dataloaders pulled out\n",
    "    X_train, y_train = dls.train.xs, dls.train.ys.values.ravel()\n",
    "    X_valid, y_valid = dls.valid.xs, dls.valid.ys.values.ravel()\n",
    "    # ----------------------------------------------------------------------------------------------------------\n",
    "    # then we can convert our categoricals to embeddings using the helper function previously defined\n",
    "    X_train_emb = embedings_as_features(learn, X_train)\n",
    "    X_valid_emb = embedings_as_features(learn, X_valid)\n",
    "    print(f'Original training data shape (rows,cols): {X_train.shape}\\nData shape with Embeddings (rows,cols): {X_train_emb.shape}')\n",
    "    print(f'Number of new features (excl 1 for 1 replacements): {X_train_emb.shape[1]-X_train.shape[1]}')\n",
    "    emb_nf.append(X_train_emb.shape[1])\n",
    "    # ----------------------------------------------------------------------------------------------------------\n",
    "    print('-'*40)\n",
    "    print('RF Model Baseline:')\n",
    "    # fit model using random forest convenience function from way before in this notebook\n",
    "    m = rf(X_train_emb, y_train)\n",
    "    emb_model_rf.append(m)\n",
    "    # look at oob score\n",
    "    print(f'OOB Score: {m.oob_score_}')\n",
    "    preds = m.predict(X_valid_emb)\n",
    "    rmse = mean_squared_error(y_valid, preds,squared=False)\n",
    "    emb_rmse_rf[targets[idx]] = rmse\n",
    "    # ----------------------------------------------------------------------------------------------------------\n",
    "    print('-'*40)\n",
    "    print('XGB Model Baseline:')\n",
    "    xgb_regr = xgb.XGBRegressor(random_state=42)\n",
    "    xgb_regr.fit(X_train_emb,y_train)\n",
    "    emb_model_xgb.append(xgb_regr)\n",
    "    xgb_preds = tensor(xgb_regr.predict(X_valid_emb))\n",
    "    rmse_xgb = mean_squared_error(xgb_preds, y_valid, squared=False)\n",
    "    emb_rmse_xgb[targets[idx]]=rmse_xgb\n",
    "    \n",
    "    # ----------------------------------------------------------------------------------------------------------\n",
    "    print('-'*40)\n",
    "    print(f'Emb RF Model RMSE: {rmse}')\n",
    "    print(f'Emb XGB Model RMSE: {rmse_xgb}')\n",
    "    print(f'Orignal RF Model RMSE: {filtered_rf_rmses[targets[idx]]}')\n",
    "    # ----------------------------------------------------------------------------------------------------------\n",
    "    print('*'*49)\n",
    "    end = dt.datetime.now()\n",
    "    print(f'*\\tended: {end}\\t*')\n",
    "    print(f'*\\telapsed time: {(end-start)}\\t\\t*')\n",
    "    print('*'*49)\n",
    "    # ----------------------------------------------------------------------------------------------------------\n",
    "    print('*'*80)"
   ]
  },
  {
   "cell_type": "code",
   "execution_count": null,
   "id": "7c4209ab-a74c-4360-a8ef-080359e5e71a",
   "metadata": {},
   "outputs": [],
   "source": []
  },
  {
   "cell_type": "markdown",
   "id": "b64315a7-84fe-46cc-a3ed-3778746071f0",
   "metadata": {},
   "source": [
    "---\n",
    "\n",
    "# <font color=\"red\">Our final model class: Random Forest</font>\n",
    "\n",
    "The preceding work determined that a Random Forest is indeed our best model. For some reason, the XGB and NN don't perform as well on the validation/test set, nor do the embeddings work well. It is best to proceed with the 15 feature (from feature selection) RandomForest model, but test out some optimization techniques for hypterparameter tuning to see if that improves outcomes."
   ]
  },
  {
   "cell_type": "markdown",
   "id": "a89dbbb1-e0ed-4915-b7e5-6b247b070fca",
   "metadata": {},
   "source": [
    "### Randomized Search with Cross Validation\n",
    "\n",
    "We reuse our filtered dataloaders from earlier in the notebook, which contain a list of rank 4 tuples of (train_x, train_y, valid_x, valid_y), one tuple per model, and we have one model per target"
   ]
  },
  {
   "cell_type": "code",
   "execution_count": 36,
   "id": "c79c2e94-7f27-4858-9e63-918147914f0f",
   "metadata": {},
   "outputs": [
    {
     "data": {
      "text/plain": [
       "['ChargeHours', 'ProductionRevActual', 'Cost', 'NumAssociatesOnJob']"
      ]
     },
     "execution_count": 36,
     "metadata": {},
     "output_type": "execute_result"
    }
   ],
   "source": [
    "#dataloaders_by_tgt_filtered\n",
    "targets"
   ]
  },
  {
   "cell_type": "code",
   "execution_count": 37,
   "id": "fbc9e183-c938-4bd9-b557-0bc8b17a3551",
   "metadata": {},
   "outputs": [],
   "source": [
    "%matplotlib inline\n",
    "import matplotlib.pyplot as plt\n",
    "\n",
    "# function to plot regression results, adapted from ds775 project code\n",
    "\n",
    "def plot_model_results(model, test_x, test_y, method_name, comp_rmse=0.):\n",
    "    score_test = model.score(test_x,test_y)\n",
    "    print(f'R^2 on Test: {score_test:.4f}')\n",
    "\n",
    "    y_pred = model.predict(test_x)\n",
    "    plt.plot(test_y,y_pred,'k.')\n",
    "    plt.xlabel('Test Values')\n",
    "    plt.ylabel('Predicted Values');\n",
    "    \n",
    "    rmse = mean_squared_error(test_y,y_pred, squared=False)\n",
    "    print(f'New RMSE on test({method_name}): {rmse:,.4f}')\n",
    "    print(f'Old RMSE on test (RF): {comp_rmse}')\n",
    "    print(f'RMSE Change (if neg, its an improvement): {rmse-comp_rmse:.4f}')\n",
    "    return rmse"
   ]
  },
  {
   "cell_type": "code",
   "execution_count": 38,
   "id": "ab01e53f-82df-4c3a-bffe-93ee685cb43a",
   "metadata": {
    "tags": []
   },
   "outputs": [
    {
     "name": "stdout",
     "output_type": "stream",
     "text": [
      "**************************RF WITH RAND SEARCH CV MODELS**************************\n",
      "*************************************************\n",
      "*\tstarted: 2022-04-18 12:02:18.730906\t*\n",
      "*************************************************\n",
      "RF model with target \"ChargeHours\"\n",
      "RF Model for ChargeHours with 15 features\n",
      "Fitting 5 folds for each of 25 candidates, totalling 125 fits\n",
      "took 130.61 seconds to perform randomized search\n",
      "best params: {'bootstrap': True, 'max_features': 0.925780523271961, 'min_samples_leaf': 8, 'min_samples_split': 15, 'n_estimators': 49}\n",
      "OOB Score: 0.277555000608682\n",
      "R^2 on Test: 0.3147\n",
      "New RMSE on test(RF Random Search CV): 48.9573\n",
      "Old RMSE on test (RF): 48.434262537826186\n",
      "RMSE Change (if neg, its an improvement): 0.5230\n",
      "********************************************************************************\n",
      "RF model with target \"ProductionRevActual\"\n",
      "RF Model for ProductionRevActual with 15 features\n",
      "Fitting 5 folds for each of 25 candidates, totalling 125 fits\n",
      "took 125.89 seconds to perform randomized search\n",
      "best params: {'bootstrap': True, 'max_features': 0.8067158375172212, 'min_samples_leaf': 15, 'min_samples_split': 12, 'n_estimators': 81}\n",
      "OOB Score: 0.28970866919308624\n",
      "R^2 on Test: 0.3141\n",
      "New RMSE on test(RF Random Search CV): 9,426.7540\n",
      "Old RMSE on test (RF): 9363.191750882717\n",
      "RMSE Change (if neg, its an improvement): 63.5622\n",
      "********************************************************************************\n",
      "RF model with target \"Cost\"\n",
      "RF Model for Cost with 15 features\n",
      "Fitting 5 folds for each of 25 candidates, totalling 125 fits\n",
      "took 132.08 seconds to perform randomized search\n",
      "best params: {'bootstrap': True, 'max_features': 0.925780523271961, 'min_samples_leaf': 8, 'min_samples_split': 15, 'n_estimators': 49}\n",
      "OOB Score: 0.26126826611892584\n",
      "R^2 on Test: 0.3094\n",
      "New RMSE on test(RF Random Search CV): 2,105.2876\n",
      "Old RMSE on test (RF): 2085.0549581288415\n",
      "RMSE Change (if neg, its an improvement): 20.2327\n",
      "********************************************************************************\n",
      "RF model with target \"NumAssociatesOnJob\"\n",
      "RF Model for NumAssociatesOnJob with 15 features\n",
      "Fitting 5 folds for each of 25 candidates, totalling 125 fits\n",
      "took 116.15 seconds to perform randomized search\n",
      "best params: {'bootstrap': True, 'max_features': 0.6210592611560484, 'min_samples_leaf': 3, 'min_samples_split': 3, 'n_estimators': 97}\n",
      "OOB Score: 0.4563397730390921\n",
      "R^2 on Test: 0.4637\n",
      "New RMSE on test(RF Random Search CV): 2.1434\n",
      "Old RMSE on test (RF): 2.170539793423609\n",
      "RMSE Change (if neg, its an improvement): -0.0272\n",
      "********************************************************************************\n",
      "*************************************************\n",
      "*\tended: 2022-04-18 12:13:38.327221\t*\n",
      "*\telapsed time: 0:08:30.447430\t\t*\n",
      "*************************************************\n"
     ]
    },
    {
     "data": {
      "image/png": "[encoded data removed]",
      "text/plain": [
       "<Figure size 432x288 with 1 Axes>"
      ]
     },
     "metadata": {
      "needs_background": "light"
     },
     "output_type": "display_data"
    }
   ],
   "source": [
    "# *****************************************************************\n",
    "rf_rand_search_rmses = {}\n",
    "rf_rand_search_models = []\n",
    "print('**************************RF WITH RAND SEARCH CV MODELS**************************')\n",
    "tstart = dt.datetime.now()\n",
    "print('*'*49)\n",
    "print(f'*\\tstarted: {start}\\t*')\n",
    "print('*'*49)\n",
    "# --------------------------------------------------------\n",
    "for idx,t in enumerate(targets):\n",
    "    print(f'RF model with target \\\"{targets[idx]}\\\"')\n",
    "    print(f'RF Model for {t} with {len(dataloaders_by_tgt_filtered[idx][0].columns)} features')\n",
    "    # ---------------------------------------------------------------------------------------------------\n",
    "    # time the randomized search\n",
    "    start = time.time()\n",
    "\n",
    "    params = {\n",
    "        \"n_estimators\": randint(10, 150), # randint from scipy.stats (imported previously)\n",
    "        \"max_features\": uniform(0.05, 0.95), #uniform from scipy.stats (imported previously)\n",
    "        \"min_samples_split\": randint(2, 20),\n",
    "        \"min_samples_leaf\": randint(1, 20),\n",
    "        \"bootstrap\": [True, False]\n",
    "    }\n",
    "    rfr = RandomForestRegressor(random_state=42)\n",
    "    rfr_rs = RandomizedSearchCV(rfr,param_distributions=params,random_state=42,\n",
    "                                n_iter=25,cv=5,verbose=1,n_jobs=-1,return_train_score=True)\n",
    "    rfr_rs.fit(dataloaders_by_tgt_filtered[idx][0], dataloaders_by_tgt_filtered[idx][1])\n",
    "    end = time.time()\n",
    "    delta = end - start\n",
    "    print(f\"took {delta:.2f} seconds to perform randomized search\")\n",
    "    print(f'best params: {rfr_rs.best_params_}')\n",
    "    # ---------------------------------------------------------------------------------------------------\n",
    "    # fit model with best params from randomized search\n",
    "    rfr = RandomForestRegressor(random_state=42, n_jobs=-1, oob_score = True, **rfr_rs.best_params_,)\n",
    "    m = rfr.fit(dataloaders_by_tgt_filtered[idx][0], dataloaders_by_tgt_filtered[idx][1])\n",
    "    rf_rand_search_models.append(m)\n",
    "    # look at oob score\n",
    "    print(f'OOB Score: {m.oob_score_}')\n",
    "    # ---------------------------------------------------------------------------------------------------\n",
    "    # compare rmse\n",
    "    rmse = plot_model_results(model=m, test_x=dataloaders_by_tgt_filtered[idx][2]\n",
    "                              ,test_y=dataloaders_by_tgt_filtered[idx][3]\n",
    "                              ,method_name='RF Random Search CV', comp_rmse=filtered_rf_rmses[t])\n",
    "    rf_rand_search_rmses[t]=(rmse)\n",
    "    # ---------------------------------------------------------------------------------------------------\n",
    "    print('*'*80)\n",
    "# --------------------------------------------------------\n",
    "print('*'*49)\n",
    "tend = dt.datetime.now()\n",
    "print(f'*\\tended: {tend}\\t*')\n",
    "print(f'*\\telapsed time: {(tend-tstart)}\\t\\t*')\n",
    "print('*'*49)"
   ]
  },
  {
   "cell_type": "code",
   "execution_count": 39,
   "id": "fd128922-4b1e-4394-aa3f-72ac64d449d2",
   "metadata": {},
   "outputs": [
    {
     "data": {
      "text/plain": [
       "{'ChargeHours': 48.434262537826186,\n",
       " 'ProductionRevActual': 9363.191750882717,\n",
       " 'Cost': 2085.0549581288415,\n",
       " 'NumAssociatesOnJob': 2.170539793423609}"
      ]
     },
     "execution_count": 39,
     "metadata": {},
     "output_type": "execute_result"
    }
   ],
   "source": [
    "filtered_rf_rmses"
   ]
  },
  {
   "cell_type": "code",
   "execution_count": null,
   "id": "9781706d-a2b5-403e-89c4-e45dbea1e8c6",
   "metadata": {},
   "outputs": [],
   "source": []
  },
  {
   "cell_type": "markdown",
   "id": "700551c9-2497-4140-8ef9-71562b42d9b2",
   "metadata": {
    "tags": []
   },
   "source": [
    "### Bayesian Optimization with Cross Validation"
   ]
  },
  {
   "cell_type": "code",
   "execution_count": 40,
   "id": "84126dfa-1d49-423e-a3c9-5eb299620423",
   "metadata": {},
   "outputs": [
    {
     "name": "stdout",
     "output_type": "stream",
     "text": [
      "**************************RF WITH BAYOPT MODELS**************************\n",
      "*************************************************\n",
      "*\tstarted: 1650301900.4032903\t*\n",
      "*************************************************\n",
      "RF Model with Bayesian Optimization for ChargeHours with 15 features\n",
      "took 302.44 seconds to perform bayesian optimization\n",
      "best params: {'n_estimators': 150, 'max_features': 0.4953103524264355, 'min_samples_split': 20, 'min_samples_leaf': 1, 'bootstrap': 1}\n",
      "OOB Score: 0.28709221707762433\n",
      "R^2 on Test: 0.3196\n",
      "New RMSE on test(RF BayOpt): 48.7815\n",
      "Old RMSE on test (RF): 48.434262537826186\n",
      "RMSE Change (if neg, its an improvement): 0.3473\n",
      "********************************************************************************\n",
      "RF Model with Bayesian Optimization for ProductionRevActual with 15 features\n",
      "took 315.63 seconds to perform bayesian optimization\n",
      "best params: {'n_estimators': 150, 'max_features': 0.8424929714845363, 'min_samples_split': 2, 'min_samples_leaf': 20, 'bootstrap': 1}\n",
      "OOB Score: 0.288017176099871\n",
      "R^2 on Test: 0.3062\n",
      "New RMSE on test(RF BayOpt): 9,481.2389\n",
      "Old RMSE on test (RF): 9363.191750882717\n",
      "RMSE Change (if neg, its an improvement): 118.0472\n",
      "********************************************************************************\n",
      "RF Model with Bayesian Optimization for Cost with 15 features\n",
      "took 531.83 seconds to perform bayesian optimization\n",
      "best params: {'n_estimators': 150, 'max_features': 0.7802189991864544, 'min_samples_split': 20, 'min_samples_leaf': 20, 'bootstrap': 1}\n",
      "OOB Score: 0.264622433316409\n",
      "R^2 on Test: 0.2955\n",
      "New RMSE on test(RF BayOpt): 2,126.3857\n",
      "Old RMSE on test (RF): 2085.0549581288415\n",
      "RMSE Change (if neg, its an improvement): 41.3308\n",
      "********************************************************************************\n",
      "RF Model with Bayesian Optimization for NumAssociatesOnJob with 15 features\n",
      "took 677.44 seconds to perform bayesian optimization\n",
      "best params: {'n_estimators': 150, 'max_features': 0.6760495700208415, 'min_samples_split': 20, 'min_samples_leaf': 1, 'bootstrap': 1}\n",
      "OOB Score: 0.4560517229466554\n",
      "R^2 on Test: 0.4570\n",
      "New RMSE on test(RF BayOpt): 2.1567\n",
      "Old RMSE on test (RF): 2.170539793423609\n",
      "RMSE Change (if neg, its an improvement): -0.0138\n",
      "********************************************************************************\n",
      "*\tended: 2022-04-18 12:44:16.584713\t*\n",
      "*\telapsed time: 0:30:38.155383\t\t*\n",
      "*************************************************\n"
     ]
    },
    {
     "data": {
      "image/png": "[encoded data removed]",
      "text/plain": [
       "<Figure size 432x288 with 1 Axes>"
      ]
     },
     "metadata": {
      "needs_background": "light"
     },
     "output_type": "display_data"
    }
   ],
   "source": [
    "np.random.seed(42)\n",
    "# USING TEMPLATE CODE FROM DS775 HOMEWORK 8\n",
    "hp_bounds = [{'name': 'n_estimators','type': 'discrete','domain': (10, 150)}, \n",
    "             {'name': 'max_features','type': 'continuous','domain': (0.05, 1.0)}, \n",
    "             {'name': 'min_samples_split','type': 'discrete','domain': (2, 20)},\n",
    "             {'name': 'min_samples_leaf','type': 'discrete','domain': (1, 20)}, \n",
    "             {'name': 'bootstrap','type': 'discrete','domain': (0, 1)}]\n",
    "\n",
    "rfr_bayopt_models = []\n",
    "rfr_bayopt_rmses = {}\n",
    "rfr_bayopt_hyperparameter_sets = []\n",
    "\n",
    "print('**************************RF WITH BAYOPT MODELS**************************')\n",
    "tstart = dt.datetime.now()\n",
    "print('*'*49)\n",
    "print(f'*\\tstarted: {start}\\t*')\n",
    "print('*'*49)\n",
    "for idx,t in enumerate(targets):\n",
    "    print(f'RF Model with Bayesian Optimization for {t} with {len(dataloaders_by_tgt_filtered[idx][0].columns)} features')\n",
    "    # time the bayesian optimization\n",
    "    start = time.time()\n",
    "    # ---------------------------------------------------------------------------------------------------\n",
    "    # Optimization objective - used from ds775 project 2 with some exits\n",
    "    def cv_score(hyp_parameters):\n",
    "        hyp_parameters = hyp_parameters[0]\n",
    "        rf_model = RandomForestRegressor(random_state=0,\n",
    "                                 n_estimators=int(hyp_parameters[0]),\n",
    "                                 max_features=hyp_parameters[1],\n",
    "                                 min_samples_split=int(hyp_parameters[2]),\n",
    "                                 min_samples_leaf=int(hyp_parameters[3]),\n",
    "                                 bootstrap=bool(hyp_parameters[4]))\n",
    "        \n",
    "        scores = cross_val_score(rf_model, X=dataloaders_by_tgt_filtered[idx][0],\n",
    "                                 y=dataloaders_by_tgt_filtered[idx][1],cv=KFold(n_splits=5))\n",
    "        return np.array(scores.mean())  # return average of 5-fold scores\n",
    "    \n",
    "    # run bayopt\n",
    "    optimizer = BayesianOptimization(f=cv_score,domain=hp_bounds,model_type='GP',acquisition_type='EI',\n",
    "                                     acquisition_jitter=0.05,exact_feval=True,maximize=True,verbosity=False)\n",
    "    optimizer.run_optimization(max_iter=20,verbosity=False) # should run silent\n",
    "    # ---------------------------------------------------------------------------------------------------\n",
    "    # ----------------- get best hyperparamters ---------------------\n",
    "    best_hyp_set = {}\n",
    "    for i in range(len(hp_bounds)):\n",
    "        if hp_bounds[i]['type'] == 'continuous':\n",
    "            best_hyp_set[hp_bounds[i]['name']] = optimizer.x_opt[i]\n",
    "        else:\n",
    "            best_hyp_set[hp_bounds[i]['name']] = int(optimizer.x_opt[i])\n",
    "    rfr_bayopt_hyperparameter_sets.append(best_hyp_set)\n",
    "    # ---------------------------------------------------------------------------------------------------\n",
    "    end = time.time()\n",
    "    delta = end - start\n",
    "    print(f\"took {delta:.2f} seconds to perform bayesian optimization\")\n",
    "    print(f'best params: {best_hyp_set}')\n",
    "    # ---------------------------------------------------------------------------------------------------\n",
    "    # fit model with best params from randomized search\n",
    "    rfr = RandomForestRegressor(random_state=42, n_jobs=-1, oob_score = True, **best_hyp_set)\n",
    "    m = rfr.fit(dataloaders_by_tgt_filtered[idx][0], dataloaders_by_tgt_filtered[idx][1])\n",
    "    rfr_bayopt_models.append(m)\n",
    "    # look at oob score\n",
    "    print(f'OOB Score: {m.oob_score_}')\n",
    "    # ---------------------------------------------------------------------------------------------------\n",
    "    # compare rmse\n",
    "    rmse = plot_model_results(model=m, test_x=dataloaders_by_tgt_filtered[idx][2]\n",
    "                              ,test_y=dataloaders_by_tgt_filtered[idx][3]\n",
    "                              ,method_name='RF BayOpt', comp_rmse=filtered_rf_rmses[t])\n",
    "    rfr_bayopt_rmses[t]=(rmse)\n",
    "     # ---------------------------------------------------------------------------------------------------\n",
    "    print('*'*80)\n",
    "tend = dt.datetime.now()\n",
    "print(f'*\\tended: {tend}\\t*')\n",
    "print(f'*\\telapsed time: {(tend-tstart)}\\t\\t*')\n",
    "print('*'*49)"
   ]
  },
  {
   "cell_type": "markdown",
   "id": "ab8ebec8-b933-4dce-853b-c2e2aa214142",
   "metadata": {},
   "source": [
    "---\n",
    "## final model: vanilla random forest w/o tuning...hmm\n",
    "### create a table with all of our stats for the models, i.e. RMSE results for each target, for each model trained in each type of model"
   ]
  },
  {
   "cell_type": "code",
   "execution_count": 42,
   "id": "62c8c37b-3f10-4ceb-986b-d9e95cad380f",
   "metadata": {},
   "outputs": [
    {
     "data": {
      "text/html": [
       "<style type=\"text/css\">\n",
       "#T_97c55_row3_col0, #T_97c55_row3_col1, #T_97c55_row3_col2, #T_97c55_row9_col3 {\n",
       "  background-color: lightgreen;\n",
       "}\n",
       "</style>\n",
       "<table id=\"T_97c55\">\n",
       "  <thead>\n",
       "    <tr>\n",
       "      <th class=\"blank level0\" >&nbsp;</th>\n",
       "      <th id=\"T_97c55_level0_col0\" class=\"col_heading level0 col0\" >ChargeHours_rmse</th>\n",
       "      <th id=\"T_97c55_level0_col1\" class=\"col_heading level0 col1\" >ProductionRevActual_rmse</th>\n",
       "      <th id=\"T_97c55_level0_col2\" class=\"col_heading level0 col2\" >Cost_rmse</th>\n",
       "      <th id=\"T_97c55_level0_col3\" class=\"col_heading level0 col3\" >NumAssociatesOnJob_rmse</th>\n",
       "      <th id=\"T_97c55_level0_col4\" class=\"col_heading level0 col4\" >num_features</th>\n",
       "    </tr>\n",
       "  </thead>\n",
       "  <tbody>\n",
       "    <tr>\n",
       "      <th id=\"T_97c55_level0_row0\" class=\"row_heading level0 row0\" >Decision Tree</th>\n",
       "      <td id=\"T_97c55_row0_col0\" class=\"data row0 col0\" >51.413817</td>\n",
       "      <td id=\"T_97c55_row0_col1\" class=\"data row0 col1\" >9793.732332</td>\n",
       "      <td id=\"T_97c55_row0_col2\" class=\"data row0 col2\" >2239.518578</td>\n",
       "      <td id=\"T_97c55_row0_col3\" class=\"data row0 col3\" >2.344544</td>\n",
       "      <td id=\"T_97c55_row0_col4\" class=\"data row0 col4\" >20</td>\n",
       "    </tr>\n",
       "    <tr>\n",
       "      <th id=\"T_97c55_level0_row1\" class=\"row_heading level0 row1\" >Random Forest (all features)</th>\n",
       "      <td id=\"T_97c55_row1_col0\" class=\"data row1 col0\" >48.657518</td>\n",
       "      <td id=\"T_97c55_row1_col1\" class=\"data row1 col1\" >9381.848527</td>\n",
       "      <td id=\"T_97c55_row1_col2\" class=\"data row1 col2\" >2103.582892</td>\n",
       "      <td id=\"T_97c55_row1_col3\" class=\"data row1 col3\" >2.155260</td>\n",
       "      <td id=\"T_97c55_row1_col4\" class=\"data row1 col4\" >20</td>\n",
       "    </tr>\n",
       "    <tr>\n",
       "      <th id=\"T_97c55_level0_row2\" class=\"row_heading level0 row2\" >Random Forest (filtered by fi)</th>\n",
       "      <td id=\"T_97c55_row2_col0\" class=\"data row2 col0\" >48.705083</td>\n",
       "      <td id=\"T_97c55_row2_col1\" class=\"data row2 col1\" >9572.954489</td>\n",
       "      <td id=\"T_97c55_row2_col2\" class=\"data row2 col2\" >2138.585326</td>\n",
       "      <td id=\"T_97c55_row2_col3\" class=\"data row2 col3\" >2.176371</td>\n",
       "      <td id=\"T_97c55_row2_col4\" class=\"data row2 col4\" >10</td>\n",
       "    </tr>\n",
       "    <tr>\n",
       "      <th id=\"T_97c55_level0_row3\" class=\"row_heading level0 row3\" >Random Forest (filtered features)</th>\n",
       "      <td id=\"T_97c55_row3_col0\" class=\"data row3 col0\" >48.434263</td>\n",
       "      <td id=\"T_97c55_row3_col1\" class=\"data row3 col1\" >9363.191751</td>\n",
       "      <td id=\"T_97c55_row3_col2\" class=\"data row3 col2\" >2085.054958</td>\n",
       "      <td id=\"T_97c55_row3_col3\" class=\"data row3 col3\" >2.170540</td>\n",
       "      <td id=\"T_97c55_row3_col4\" class=\"data row3 col4\" >15</td>\n",
       "    </tr>\n",
       "    <tr>\n",
       "      <th id=\"T_97c55_level0_row4\" class=\"row_heading level0 row4\" >XG Boost (Rand Search CV,filtered features)</th>\n",
       "      <td id=\"T_97c55_row4_col0\" class=\"data row4 col0\" >49.221001</td>\n",
       "      <td id=\"T_97c55_row4_col1\" class=\"data row4 col1\" >9607.276367</td>\n",
       "      <td id=\"T_97c55_row4_col2\" class=\"data row4 col2\" >2158.280518</td>\n",
       "      <td id=\"T_97c55_row4_col3\" class=\"data row4 col3\" >2.161184</td>\n",
       "      <td id=\"T_97c55_row4_col4\" class=\"data row4 col4\" >15</td>\n",
       "    </tr>\n",
       "    <tr>\n",
       "      <th id=\"T_97c55_level0_row5\" class=\"row_heading level0 row5\" >XG Boost (BayOpt,filtered features)</th>\n",
       "      <td id=\"T_97c55_row5_col0\" class=\"data row5 col0\" >52.766140</td>\n",
       "      <td id=\"T_97c55_row5_col1\" class=\"data row5 col1\" >9542.208008</td>\n",
       "      <td id=\"T_97c55_row5_col2\" class=\"data row5 col2\" >2233.725586</td>\n",
       "      <td id=\"T_97c55_row5_col3\" class=\"data row5 col3\" >2.349012</td>\n",
       "      <td id=\"T_97c55_row5_col4\" class=\"data row5 col4\" >15</td>\n",
       "    </tr>\n",
       "    <tr>\n",
       "      <th id=\"T_97c55_level0_row6\" class=\"row_heading level0 row6\" >Neural Net (Fastai Tabular,filtered features)</th>\n",
       "      <td id=\"T_97c55_row6_col0\" class=\"data row6 col0\" >52.536297</td>\n",
       "      <td id=\"T_97c55_row6_col1\" class=\"data row6 col1\" >27331.042969</td>\n",
       "      <td id=\"T_97c55_row6_col2\" class=\"data row6 col2\" >4001.887207</td>\n",
       "      <td id=\"T_97c55_row6_col3\" class=\"data row6 col3\" >2.594106</td>\n",
       "      <td id=\"T_97c55_row6_col4\" class=\"data row6 col4\" >20</td>\n",
       "    </tr>\n",
       "    <tr>\n",
       "      <th id=\"T_97c55_level0_row7\" class=\"row_heading level0 row7\" >Random Forest (using NN Entity Embeddings)</th>\n",
       "      <td id=\"T_97c55_row7_col0\" class=\"data row7 col0\" >50.880183</td>\n",
       "      <td id=\"T_97c55_row7_col1\" class=\"data row7 col1\" >10287.799171</td>\n",
       "      <td id=\"T_97c55_row7_col2\" class=\"data row7 col2\" >2273.841912</td>\n",
       "      <td id=\"T_97c55_row7_col3\" class=\"data row7 col3\" >2.345997</td>\n",
       "      <td id=\"T_97c55_row7_col4\" class=\"data row7 col4\" >20</td>\n",
       "    </tr>\n",
       "    <tr>\n",
       "      <th id=\"T_97c55_level0_row8\" class=\"row_heading level0 row8\" >XG Boost (using NN Entity Embeddings)</th>\n",
       "      <td id=\"T_97c55_row8_col0\" class=\"data row8 col0\" >54.391418</td>\n",
       "      <td id=\"T_97c55_row8_col1\" class=\"data row8 col1\" >10744.569336</td>\n",
       "      <td id=\"T_97c55_row8_col2\" class=\"data row8 col2\" >2412.375488</td>\n",
       "      <td id=\"T_97c55_row8_col3\" class=\"data row8 col3\" >2.398142</td>\n",
       "      <td id=\"T_97c55_row8_col4\" class=\"data row8 col4\" >20</td>\n",
       "    </tr>\n",
       "    <tr>\n",
       "      <th id=\"T_97c55_level0_row9\" class=\"row_heading level0 row9\" >Random Forest (Rand Search CV)</th>\n",
       "      <td id=\"T_97c55_row9_col0\" class=\"data row9 col0\" >48.957268</td>\n",
       "      <td id=\"T_97c55_row9_col1\" class=\"data row9 col1\" >9426.753996</td>\n",
       "      <td id=\"T_97c55_row9_col2\" class=\"data row9 col2\" >2105.287622</td>\n",
       "      <td id=\"T_97c55_row9_col3\" class=\"data row9 col3\" >2.143382</td>\n",
       "      <td id=\"T_97c55_row9_col4\" class=\"data row9 col4\" >15</td>\n",
       "    </tr>\n",
       "    <tr>\n",
       "      <th id=\"T_97c55_level0_row10\" class=\"row_heading level0 row10\" >Random Forest (BayOpt)</th>\n",
       "      <td id=\"T_97c55_row10_col0\" class=\"data row10 col0\" >48.781516</td>\n",
       "      <td id=\"T_97c55_row10_col1\" class=\"data row10 col1\" >9481.238948</td>\n",
       "      <td id=\"T_97c55_row10_col2\" class=\"data row10 col2\" >2126.385732</td>\n",
       "      <td id=\"T_97c55_row10_col3\" class=\"data row10 col3\" >2.156730</td>\n",
       "      <td id=\"T_97c55_row10_col4\" class=\"data row10 col4\" >15</td>\n",
       "    </tr>\n",
       "  </tbody>\n",
       "</table>\n"
      ],
      "text/plain": [
       "<pandas.io.formats.style.Styler at 0x22591b48850>"
      ]
     },
     "execution_count": 42,
     "metadata": {},
     "output_type": "execute_result"
    }
   ],
   "source": [
    "model_classes = ['Decision Tree', 'Random Forest (all features)', 'Random Forest (filtered by fi)', 'Random Forest (filtered features)', 'XG Boost (Rand Search CV,filtered features)'\n",
    "                 , 'XG Boost (BayOpt,filtered features)', 'Neural Net (Fastai Tabular,filtered features)', 'Random Forest (using NN Entity Embeddings)'\n",
    "                 , 'XG Boost (using NN Entity Embeddings)', 'Random Forest (Rand Search CV)', 'Random Forest (BayOpt)']\n",
    "\n",
    "# cleanup our value dicts\n",
    "dt_results_2= {k.replace(' pred stats (rmse,r2)',''):v[0] for k,v in dt_results.items()} # it was messy\n",
    "rf_base_results_2 = {k.replace(' pred stats (rmse,r2)',''):v[0] for k,v in rf_base_results.items()} # it was messy\n",
    "nn_mod_rmse_dict = dict(zip(targets,[float(x) for x in best_nn_model_rmses])) # convert from tensor list\n",
    "\n",
    "# instantiate our dict object\n",
    "value_dicts = [dt_results_2, rf_base_results_2,rf_with_fi_fs_rmses,filtered_rf_rmses,xgb_rmses\n",
    "              ,xgb_bayopt_rmses,nn_mod_rmse_dict,emb_rmse_rf\n",
    "              ,emb_rmse_xgb,rf_rand_search_rmses,rfr_bayopt_rmses]\n",
    "build_dict = dict(zip(model_classes, [{f'{k}_rmse':v for k,v in res.items()} for res in value_dicts]))\n",
    "\n",
    "# create transposed df\n",
    "rmse_dict = pd.DataFrame.from_dict(build_dict).T\n",
    "               \n",
    "# add n-feature col\n",
    "n_features = [20,20,10,15,15,15,20,20,20,15,15]\n",
    "rmse_dict['num_features'] = n_features\n",
    "\n",
    "#show\n",
    "#rmse_dict.style.highlight_min(color='lightgreen', axis=0, subset=['ChargeHours_rmse','ProductionRevActual_rmse','Cost_rmse','NumAssociatesOnJob_rmse'])\n",
    "rmse_dict.style.highlight_min(color='lightgreen', axis=0, subset=['ChargeHours_rmse','ProductionRevActual_rmse','Cost_rmse','NumAssociatesOnJob_rmse'])"
   ]
  },
  {
   "cell_type": "markdown",
   "id": "c50d992d-62b7-454d-9db8-dadf6df2a1fa",
   "metadata": {},
   "source": [
    "### saving the final models\n",
    "\n"
   ]
  },
  {
   "cell_type": "code",
   "execution_count": 46,
   "id": "7b6a83b3-267b-4664-9b33-229a26f26a9d",
   "metadata": {},
   "outputs": [
    {
     "data": {
      "text/plain": [
       "['best_models/NumAssociatesOnJob.pkl']"
      ]
     },
     "execution_count": 46,
     "metadata": {},
     "output_type": "execute_result"
    }
   ],
   "source": [
    "import joblib\n",
    "import pathlib\n",
    "bm_savepath = pathlib.PurePath('./best_models')\n",
    "#tday = dt.date.today().strftime('%m-%d-%Y')\n",
    "# best ChargeHours model\n",
    "joblib.dump(models_filtered_dfs[0], f'{bm_savepath}/ChargeHours.pkl')\n",
    "# best ProductionRevActualModel\n",
    "joblib.dump(models_filtered_dfs[1], f'{bm_savepath}/ProductionRevActual.pkl')\n",
    "# best Cost model\n",
    "joblib.dump(models_filtered_dfs[2], f'{bm_savepath}/Cost.pkl')\n",
    "# best NumAssociates model\n",
    "joblib.dump(rf_rand_search_models[3], f'{bm_savepath}/NumAssociatesOnJob.pkl')"
   ]
  },
  {
   "cell_type": "code",
   "execution_count": 44,
   "id": "d8781559-bf0d-41f3-ba45-6a1911bce818",
   "metadata": {},
   "outputs": [],
   "source": [
    "# to load later...\n",
    "# regr =  joblib.load('model.pkl'\n",
    "# regr.predict(new_data)"
   ]
  },
  {
   "cell_type": "markdown",
   "id": "188ead9c-981b-45be-93df-52082de74120",
   "metadata": {},
   "source": [
    "---"
   ]
  },
  {
   "cell_type": "code",
   "execution_count": 45,
   "id": "5b08a701-1a25-4d7a-ba4d-14a3619f77f2",
   "metadata": {},
   "outputs": [
    {
     "name": "stdout",
     "output_type": "stream",
     "text": [
      "*************************************************\n",
      "*\tended: 2022-04-18 13:39:24.994217\t*\n",
      "*\telapsed time: 2:02:17.696826\t\t*\n",
      "*************************************************\n"
     ]
    }
   ],
   "source": [
    "# final run time of entire notebook - only makes sense on a KERNEL > RESTART AND RUN ALL\n",
    "print('*'*49)\n",
    "full_nb_run_end = dt.datetime.now()\n",
    "print(f'*\\tended: {full_nb_run_end}\\t*')\n",
    "print(f'*\\telapsed time: {(full_nb_run_end-full_nb_run_start)}\\t\\t*')\n",
    "print('*'*49)"
   ]
  },
  {
   "cell_type": "code",
   "execution_count": null,
   "id": "0c4998ff-d9bf-40c0-8ef6-a3ebf831fe41",
   "metadata": {},
   "outputs": [],
   "source": []
  }
 ],
 "metadata": {
  "kernelspec": {
   "display_name": "FastAi Py397",
   "language": "python",
   "name": "fastai_py397"
  },
  "language_info": {
   "codemirror_mode": {
    "name": "ipython",
    "version": 3
   },
   "file_extension": ".py",
   "mimetype": "text/x-python",
   "name": "python",
   "nbconvert_exporter": "python",
   "pygments_lexer": "ipython3",
   "version": "3.9.7"
  }
 },
 "nbformat": 4,
 "nbformat_minor": 5
}
